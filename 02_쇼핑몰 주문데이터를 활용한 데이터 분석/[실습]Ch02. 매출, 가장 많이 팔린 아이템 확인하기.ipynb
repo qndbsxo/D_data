{
 "cells": [
  {
   "cell_type": "code",
   "execution_count": 1,
   "metadata": {},
   "outputs": [],
   "source": [
    "# 쇼핑몰 고객주문데이터로\n",
    "# 매울, 가장 많이 팔린 데이터 확인 해보겠습니다"
   ]
  },
  {
   "cell_type": "markdown",
   "metadata": {},
   "source": [
    "### 학습목표\n",
    "1. 아이템별 지표 확인하기\n",
    "2. 시간별 지역별 판매 지표 확인하기"
   ]
  },
  {
   "cell_type": "code",
   "execution_count": 2,
   "metadata": {},
   "outputs": [],
   "source": [
    "import numpy as np\n",
    "import pandas as pd\n",
    "# seaborn : matplotlib 에서 좀더 확장된 기능 (풍부한 + 정제된 UI 게종)\n",
    "import seaborn as sns\n",
    "COLORS = sns.color_palette()   # seaborn 에서 정의해둔 색상팔레트\n",
    "\n",
    "%matplotlib inline"
   ]
  },
  {
   "cell_type": "code",
   "execution_count": null,
   "metadata": {},
   "outputs": [],
   "source": []
  },
  {
   "cell_type": "markdown",
   "metadata": {},
   "source": [
    "#### 데이터 로딩\n",
    "1. 정제된 데이터 사용(retail.csv)"
   ]
  },
  {
   "cell_type": "code",
   "execution_count": 4,
   "metadata": {},
   "outputs": [
    {
     "data": {
      "text/html": [
       "<div>\n",
       "<style scoped>\n",
       "    .dataframe tbody tr th:only-of-type {\n",
       "        vertical-align: middle;\n",
       "    }\n",
       "\n",
       "    .dataframe tbody tr th {\n",
       "        vertical-align: top;\n",
       "    }\n",
       "\n",
       "    .dataframe thead th {\n",
       "        text-align: right;\n",
       "    }\n",
       "</style>\n",
       "<table border=\"1\" class=\"dataframe\">\n",
       "  <thead>\n",
       "    <tr style=\"text-align: right;\">\n",
       "      <th></th>\n",
       "      <th>Unnamed: 0</th>\n",
       "      <th>InvoiceNo</th>\n",
       "      <th>StockCode</th>\n",
       "      <th>Description</th>\n",
       "      <th>Quantity</th>\n",
       "      <th>InvoiceDate</th>\n",
       "      <th>UnitPrice</th>\n",
       "      <th>CustomerID</th>\n",
       "      <th>Country</th>\n",
       "      <th>CheckoutPrice</th>\n",
       "    </tr>\n",
       "  </thead>\n",
       "  <tbody>\n",
       "    <tr>\n",
       "      <th>0</th>\n",
       "      <td>0</td>\n",
       "      <td>536365</td>\n",
       "      <td>85123A</td>\n",
       "      <td>WHITE HANGING HEART T-LIGHT HOLDER</td>\n",
       "      <td>6</td>\n",
       "      <td>12/1/2010 8:26</td>\n",
       "      <td>2.55</td>\n",
       "      <td>17850</td>\n",
       "      <td>United Kingdom</td>\n",
       "      <td>15.30</td>\n",
       "    </tr>\n",
       "    <tr>\n",
       "      <th>1</th>\n",
       "      <td>1</td>\n",
       "      <td>536365</td>\n",
       "      <td>71053</td>\n",
       "      <td>WHITE METAL LANTERN</td>\n",
       "      <td>6</td>\n",
       "      <td>12/1/2010 8:26</td>\n",
       "      <td>3.39</td>\n",
       "      <td>17850</td>\n",
       "      <td>United Kingdom</td>\n",
       "      <td>20.34</td>\n",
       "    </tr>\n",
       "    <tr>\n",
       "      <th>2</th>\n",
       "      <td>2</td>\n",
       "      <td>536365</td>\n",
       "      <td>84406B</td>\n",
       "      <td>CREAM CUPID HEARTS COAT HANGER</td>\n",
       "      <td>8</td>\n",
       "      <td>12/1/2010 8:26</td>\n",
       "      <td>2.75</td>\n",
       "      <td>17850</td>\n",
       "      <td>United Kingdom</td>\n",
       "      <td>22.00</td>\n",
       "    </tr>\n",
       "    <tr>\n",
       "      <th>3</th>\n",
       "      <td>3</td>\n",
       "      <td>536365</td>\n",
       "      <td>84029G</td>\n",
       "      <td>KNITTED UNION FLAG HOT WATER BOTTLE</td>\n",
       "      <td>6</td>\n",
       "      <td>12/1/2010 8:26</td>\n",
       "      <td>3.39</td>\n",
       "      <td>17850</td>\n",
       "      <td>United Kingdom</td>\n",
       "      <td>20.34</td>\n",
       "    </tr>\n",
       "    <tr>\n",
       "      <th>4</th>\n",
       "      <td>4</td>\n",
       "      <td>536365</td>\n",
       "      <td>84029E</td>\n",
       "      <td>RED WOOLLY HOTTIE WHITE HEART.</td>\n",
       "      <td>6</td>\n",
       "      <td>12/1/2010 8:26</td>\n",
       "      <td>3.39</td>\n",
       "      <td>17850</td>\n",
       "      <td>United Kingdom</td>\n",
       "      <td>20.34</td>\n",
       "    </tr>\n",
       "  </tbody>\n",
       "</table>\n",
       "</div>"
      ],
      "text/plain": [
       "   Unnamed: 0  InvoiceNo StockCode                          Description  \\\n",
       "0           0     536365    85123A   WHITE HANGING HEART T-LIGHT HOLDER   \n",
       "1           1     536365     71053                  WHITE METAL LANTERN   \n",
       "2           2     536365    84406B       CREAM CUPID HEARTS COAT HANGER   \n",
       "3           3     536365    84029G  KNITTED UNION FLAG HOT WATER BOTTLE   \n",
       "4           4     536365    84029E       RED WOOLLY HOTTIE WHITE HEART.   \n",
       "\n",
       "   Quantity     InvoiceDate  UnitPrice  CustomerID         Country  \\\n",
       "0         6  12/1/2010 8:26       2.55       17850  United Kingdom   \n",
       "1         6  12/1/2010 8:26       3.39       17850  United Kingdom   \n",
       "2         8  12/1/2010 8:26       2.75       17850  United Kingdom   \n",
       "3         6  12/1/2010 8:26       3.39       17850  United Kingdom   \n",
       "4         6  12/1/2010 8:26       3.39       17850  United Kingdom   \n",
       "\n",
       "   CheckoutPrice  \n",
       "0          15.30  \n",
       "1          20.34  \n",
       "2          22.00  \n",
       "3          20.34  \n",
       "4          20.34  "
      ]
     },
     "execution_count": 4,
     "metadata": {},
     "output_type": "execute_result"
    }
   ],
   "source": [
    "dtypes = {\n",
    "    'UnitPrice': np.float32,\n",
    "    'CustomerID': np.int32,\n",
    "    'Quantity': np.int32\n",
    "}\n",
    "retail = pd.read_csv('../Data/OnlineRetailClean.csv', dtype=dtypes)  # dtype 지정 가능\n",
    "retail.head()"
   ]
  },
  {
   "cell_type": "markdown",
   "metadata": {},
   "source": [
    "#### 날짜 타입 데이터 변환\n",
    " - 문자열로 로딩하는 것보다 date/datetime 타입으로 로딩하는 것이 분석에 용이"
   ]
  },
  {
   "cell_type": "code",
   "execution_count": 5,
   "metadata": {},
   "outputs": [],
   "source": [
    "# 분석 용이성을 위해 한가지 더 추가하께요\n",
    "# 날짜의 타입을 함 보겠씁니다"
   ]
  },
  {
   "cell_type": "code",
   "execution_count": 6,
   "metadata": {},
   "outputs": [
    {
     "name": "stdout",
     "output_type": "stream",
     "text": [
      "<class 'pandas.core.frame.DataFrame'>\n",
      "RangeIndex: 397884 entries, 0 to 397883\n",
      "Data columns (total 10 columns):\n",
      " #   Column         Non-Null Count   Dtype  \n",
      "---  ------         --------------   -----  \n",
      " 0   Unnamed: 0     397884 non-null  int64  \n",
      " 1   InvoiceNo      397884 non-null  int64  \n",
      " 2   StockCode      397884 non-null  object \n",
      " 3   Description    397884 non-null  object \n",
      " 4   Quantity       397884 non-null  int32  \n",
      " 5   InvoiceDate    397884 non-null  object \n",
      " 6   UnitPrice      397884 non-null  float32\n",
      " 7   CustomerID     397884 non-null  int32  \n",
      " 8   Country        397884 non-null  object \n",
      " 9   CheckoutPrice  397884 non-null  float64\n",
      "dtypes: float32(1), float64(1), int32(2), int64(2), object(4)\n",
      "memory usage: 25.8+ MB\n"
     ]
    }
   ],
   "source": [
    "retail.info()"
   ]
  },
  {
   "cell_type": "code",
   "execution_count": 7,
   "metadata": {},
   "outputs": [],
   "source": [
    "# 관찰\n",
    "# InvoiceDate    397884 non-null  object   <-- 데이터 타입이 문자임을 확인 가능하다\n",
    "# 날짜 데이터는 '날짜 타입' 으로 바꾸는 것이 분석에 용이하기에\n",
    "# 날짜로 타입 변경을 해보도록 하겠씁니다"
   ]
  },
  {
   "cell_type": "code",
   "execution_count": 8,
   "metadata": {},
   "outputs": [
    {
     "data": {
      "text/plain": [
       "0        2010-12-01 08:26:00\n",
       "1        2010-12-01 08:26:00\n",
       "2        2010-12-01 08:26:00\n",
       "3        2010-12-01 08:26:00\n",
       "4        2010-12-01 08:26:00\n",
       "                 ...        \n",
       "397879   2011-12-09 12:50:00\n",
       "397880   2011-12-09 12:50:00\n",
       "397881   2011-12-09 12:50:00\n",
       "397882   2011-12-09 12:50:00\n",
       "397883   2011-12-09 12:50:00\n",
       "Name: InvoiceDate, Length: 397884, dtype: datetime64[ns]"
      ]
     },
     "execution_count": 8,
     "metadata": {},
     "output_type": "execute_result"
    }
   ],
   "source": [
    "pd.to_datetime(retail['InvoiceDate'], infer_datetime_format=True)\n",
    "\n",
    "# 원하는 형식의 데이터 설정도 가능하다.\n",
    "# infer_datetime_format=True  <-- 데이터를 살펴보아, 자동으로 포맷 세팅\n",
    "\n",
    "# ↓ 아래에서 확인해보자."
   ]
  },
  {
   "cell_type": "code",
   "execution_count": 9,
   "metadata": {},
   "outputs": [
    {
     "name": "stdout",
     "output_type": "stream",
     "text": [
      "<class 'pandas.core.frame.DataFrame'>\n",
      "RangeIndex: 397884 entries, 0 to 397883\n",
      "Data columns (total 10 columns):\n",
      " #   Column         Non-Null Count   Dtype         \n",
      "---  ------         --------------   -----         \n",
      " 0   Unnamed: 0     397884 non-null  int64         \n",
      " 1   InvoiceNo      397884 non-null  int64         \n",
      " 2   StockCode      397884 non-null  object        \n",
      " 3   Description    397884 non-null  object        \n",
      " 4   Quantity       397884 non-null  int32         \n",
      " 5   InvoiceDate    397884 non-null  datetime64[ns]\n",
      " 6   UnitPrice      397884 non-null  float32       \n",
      " 7   CustomerID     397884 non-null  int32         \n",
      " 8   Country        397884 non-null  object        \n",
      " 9   CheckoutPrice  397884 non-null  float64       \n",
      "dtypes: datetime64[ns](1), float32(1), float64(1), int32(2), int64(2), object(3)\n",
      "memory usage: 25.8+ MB\n"
     ]
    }
   ],
   "source": [
    "retail['InvoiceDate'] = pd.to_datetime(retail['InvoiceDate'], infer_datetime_format=True)\n",
    "retail.info()\n",
    "\n",
    "# 결과 : InvoiceDate  타입이 object --> datetime64[ns] 로 변환\n",
    "#   왜 바꾸는지는 이따가 다시 설명..."
   ]
  },
  {
   "cell_type": "code",
   "execution_count": 10,
   "metadata": {},
   "outputs": [],
   "source": [
    "# 이제 '특정 기간'의 매출 데이터를 가져와 보겠습니다."
   ]
  },
  {
   "cell_type": "markdown",
   "metadata": {},
   "source": [
    "---\n",
    "## 해당 기간 동안의 매출\n",
    " - 전체 매출\n",
    " - 국가별 매출\n",
    " - 월별 매출\n",
    " - 요일별 매출\n",
    " - 시간별 매출"
   ]
  },
  {
   "cell_type": "markdown",
   "metadata": {},
   "source": [
    "# 전체 매출\n",
    "\"작년부터 올해까지 매출 데이터는?\""
   ]
  },
  {
   "cell_type": "code",
   "execution_count": 12,
   "metadata": {},
   "outputs": [
    {
     "data": {
      "text/plain": [
       "8911407.904"
      ]
     },
     "execution_count": 12,
     "metadata": {},
     "output_type": "execute_result"
    }
   ],
   "source": [
    "total_revenue = retail['CheckoutPrice'].sum()\n",
    "total_revenue\n",
    "\n",
    "# 8911407.904 의 수익 발행 (단위는 아마도 유로?)"
   ]
  },
  {
   "cell_type": "markdown",
   "metadata": {},
   "source": [
    "# 국가별 매출\n",
    "\"어느나라에서 매출을 많이 올리고 있을까\""
   ]
  },
  {
   "cell_type": "code",
   "execution_count": 13,
   "metadata": {},
   "outputs": [
    {
     "data": {
      "text/plain": [
       "<pandas.core.groupby.generic.DataFrameGroupBy object at 0x000002055DCAEAF0>"
      ]
     },
     "execution_count": 13,
     "metadata": {},
     "output_type": "execute_result"
    }
   ],
   "source": [
    "# 국가별로 groupby\n",
    "retail.groupby('Country')"
   ]
  },
  {
   "cell_type": "code",
   "execution_count": 14,
   "metadata": {},
   "outputs": [
    {
     "data": {
      "text/html": [
       "<div>\n",
       "<style scoped>\n",
       "    .dataframe tbody tr th:only-of-type {\n",
       "        vertical-align: middle;\n",
       "    }\n",
       "\n",
       "    .dataframe tbody tr th {\n",
       "        vertical-align: top;\n",
       "    }\n",
       "\n",
       "    .dataframe thead th {\n",
       "        text-align: right;\n",
       "    }\n",
       "</style>\n",
       "<table border=\"1\" class=\"dataframe\">\n",
       "  <thead>\n",
       "    <tr style=\"text-align: right;\">\n",
       "      <th></th>\n",
       "      <th>Unnamed: 0</th>\n",
       "      <th>InvoiceNo</th>\n",
       "      <th>Quantity</th>\n",
       "      <th>UnitPrice</th>\n",
       "      <th>CustomerID</th>\n",
       "      <th>CheckoutPrice</th>\n",
       "    </tr>\n",
       "    <tr>\n",
       "      <th>Country</th>\n",
       "      <th></th>\n",
       "      <th></th>\n",
       "      <th></th>\n",
       "      <th></th>\n",
       "      <th></th>\n",
       "      <th></th>\n",
       "    </tr>\n",
       "  </thead>\n",
       "  <tbody>\n",
       "    <tr>\n",
       "      <th>Australia</th>\n",
       "      <td>265381714</td>\n",
       "      <td>657415628</td>\n",
       "      <td>83901.0</td>\n",
       "      <td>3.612500e+03</td>\n",
       "      <td>1.472127e+07</td>\n",
       "      <td>1.385213e+05</td>\n",
       "    </tr>\n",
       "    <tr>\n",
       "      <th>Austria</th>\n",
       "      <td>118301156</td>\n",
       "      <td>223822318</td>\n",
       "      <td>4881.0</td>\n",
       "      <td>1.693900e+03</td>\n",
       "      <td>4.982601e+06</td>\n",
       "      <td>1.019868e+04</td>\n",
       "    </tr>\n",
       "    <tr>\n",
       "      <th>Bahrain</th>\n",
       "      <td>3144388</td>\n",
       "      <td>9397437</td>\n",
       "      <td>260.0</td>\n",
       "      <td>7.895000e+01</td>\n",
       "      <td>2.100270e+05</td>\n",
       "      <td>5.484000e+02</td>\n",
       "    </tr>\n",
       "    <tr>\n",
       "      <th>Belgium</th>\n",
       "      <td>561892335</td>\n",
       "      <td>1138462862</td>\n",
       "      <td>23237.0</td>\n",
       "      <td>7.372850e+03</td>\n",
       "      <td>2.524670e+07</td>\n",
       "      <td>4.119634e+04</td>\n",
       "    </tr>\n",
       "    <tr>\n",
       "      <th>Brazil</th>\n",
       "      <td>5034064</td>\n",
       "      <td>17606432</td>\n",
       "      <td>356.0</td>\n",
       "      <td>1.426000e+02</td>\n",
       "      <td>4.086080e+05</td>\n",
       "      <td>1.143600e+03</td>\n",
       "    </tr>\n",
       "    <tr>\n",
       "      <th>Canada</th>\n",
       "      <td>36331486</td>\n",
       "      <td>84252636</td>\n",
       "      <td>2763.0</td>\n",
       "      <td>9.105800e+02</td>\n",
       "      <td>2.615483e+06</td>\n",
       "      <td>3.666380e+03</td>\n",
       "    </tr>\n",
       "    <tr>\n",
       "      <th>Channel Islands</th>\n",
       "      <td>190820428</td>\n",
       "      <td>417972473</td>\n",
       "      <td>9491.0</td>\n",
       "      <td>3.389650e+03</td>\n",
       "      <td>1.113834e+07</td>\n",
       "      <td>2.045044e+04</td>\n",
       "    </tr>\n",
       "    <tr>\n",
       "      <th>Cyprus</th>\n",
       "      <td>145370145</td>\n",
       "      <td>341888568</td>\n",
       "      <td>6361.0</td>\n",
       "      <td>3.506180e+03</td>\n",
       "      <td>7.616904e+06</td>\n",
       "      <td>1.359038e+04</td>\n",
       "    </tr>\n",
       "    <tr>\n",
       "      <th>Czech Republic</th>\n",
       "      <td>5389080</td>\n",
       "      <td>13876340</td>\n",
       "      <td>671.0</td>\n",
       "      <td>7.827000e+01</td>\n",
       "      <td>3.195250e+05</td>\n",
       "      <td>8.267400e+02</td>\n",
       "    </tr>\n",
       "    <tr>\n",
       "      <th>Denmark</th>\n",
       "      <td>113827769</td>\n",
       "      <td>213742248</td>\n",
       "      <td>8235.0</td>\n",
       "      <td>1.195550e+03</td>\n",
       "      <td>4.757518e+06</td>\n",
       "      <td>1.895534e+04</td>\n",
       "    </tr>\n",
       "    <tr>\n",
       "      <th>EIRE</th>\n",
       "      <td>2097307813</td>\n",
       "      <td>4064289700</td>\n",
       "      <td>140275.0</td>\n",
       "      <td>3.217928e+04</td>\n",
       "      <td>1.066949e+08</td>\n",
       "      <td>2.655459e+05</td>\n",
       "    </tr>\n",
       "    <tr>\n",
       "      <th>European Community</th>\n",
       "      <td>14044599</td>\n",
       "      <td>33434869</td>\n",
       "      <td>499.0</td>\n",
       "      <td>2.898000e+02</td>\n",
       "      <td>9.064800e+05</td>\n",
       "      <td>1.300250e+03</td>\n",
       "    </tr>\n",
       "    <tr>\n",
       "      <th>Finland</th>\n",
       "      <td>175170746</td>\n",
       "      <td>382635802</td>\n",
       "      <td>10704.0</td>\n",
       "      <td>3.628440e+03</td>\n",
       "      <td>8.574309e+06</td>\n",
       "      <td>2.254608e+04</td>\n",
       "    </tr>\n",
       "    <tr>\n",
       "      <th>France</th>\n",
       "      <td>2332942383</td>\n",
       "      <td>4677099224</td>\n",
       "      <td>111471.0</td>\n",
       "      <td>3.683204e+04</td>\n",
       "      <td>1.057506e+08</td>\n",
       "      <td>2.090240e+05</td>\n",
       "    </tr>\n",
       "    <tr>\n",
       "      <th>Germany</th>\n",
       "      <td>2431296505</td>\n",
       "      <td>5061018356</td>\n",
       "      <td>119261.0</td>\n",
       "      <td>3.353214e+04</td>\n",
       "      <td>1.143471e+08</td>\n",
       "      <td>2.288671e+05</td>\n",
       "    </tr>\n",
       "    <tr>\n",
       "      <th>Greece</th>\n",
       "      <td>34549121</td>\n",
       "      <td>80713029</td>\n",
       "      <td>1557.0</td>\n",
       "      <td>6.632900e+02</td>\n",
       "      <td>1.995867e+06</td>\n",
       "      <td>4.760520e+03</td>\n",
       "    </tr>\n",
       "    <tr>\n",
       "      <th>Iceland</th>\n",
       "      <td>42441700</td>\n",
       "      <td>101296926</td>\n",
       "      <td>2458.0</td>\n",
       "      <td>4.812100e+02</td>\n",
       "      <td>2.247154e+06</td>\n",
       "      <td>4.310000e+03</td>\n",
       "    </tr>\n",
       "    <tr>\n",
       "      <th>Israel</th>\n",
       "      <td>73493852</td>\n",
       "      <td>139566069</td>\n",
       "      <td>4046.0</td>\n",
       "      <td>9.044400e+02</td>\n",
       "      <td>3.139135e+06</td>\n",
       "      <td>7.221690e+03</td>\n",
       "    </tr>\n",
       "    <tr>\n",
       "      <th>Italy</th>\n",
       "      <td>219198374</td>\n",
       "      <td>425518649</td>\n",
       "      <td>8112.0</td>\n",
       "      <td>3.576210e+03</td>\n",
       "      <td>9.588028e+06</td>\n",
       "      <td>1.748324e+04</td>\n",
       "    </tr>\n",
       "    <tr>\n",
       "      <th>Japan</th>\n",
       "      <td>55194877</td>\n",
       "      <td>176939004</td>\n",
       "      <td>26016.0</td>\n",
       "      <td>6.572100e+02</td>\n",
       "      <td>4.095425e+06</td>\n",
       "      <td>3.741637e+04</td>\n",
       "    </tr>\n",
       "    <tr>\n",
       "      <th>Lebanon</th>\n",
       "      <td>3285315</td>\n",
       "      <td>24402420</td>\n",
       "      <td>386.0</td>\n",
       "      <td>2.424400e+02</td>\n",
       "      <td>5.743800e+05</td>\n",
       "      <td>1.693880e+03</td>\n",
       "    </tr>\n",
       "    <tr>\n",
       "      <th>Lithuania</th>\n",
       "      <td>291110</td>\n",
       "      <td>18798630</td>\n",
       "      <td>652.0</td>\n",
       "      <td>9.944000e+01</td>\n",
       "      <td>5.366200e+05</td>\n",
       "      <td>1.661060e+03</td>\n",
       "    </tr>\n",
       "    <tr>\n",
       "      <th>Malta</th>\n",
       "      <td>32181505</td>\n",
       "      <td>62931641</td>\n",
       "      <td>970.0</td>\n",
       "      <td>5.451900e+02</td>\n",
       "      <td>1.891076e+06</td>\n",
       "      <td>2.725590e+03</td>\n",
       "    </tr>\n",
       "    <tr>\n",
       "      <th>Netherlands</th>\n",
       "      <td>612103765</td>\n",
       "      <td>1318829653</td>\n",
       "      <td>200361.0</td>\n",
       "      <td>6.247730e+03</td>\n",
       "      <td>3.402037e+07</td>\n",
       "      <td>2.854463e+05</td>\n",
       "    </tr>\n",
       "    <tr>\n",
       "      <th>Norway</th>\n",
       "      <td>330245507</td>\n",
       "      <td>603201625</td>\n",
       "      <td>19336.0</td>\n",
       "      <td>5.662470e+03</td>\n",
       "      <td>1.332216e+07</td>\n",
       "      <td>3.616544e+04</td>\n",
       "    </tr>\n",
       "    <tr>\n",
       "      <th>Poland</th>\n",
       "      <td>80141564</td>\n",
       "      <td>184045618</td>\n",
       "      <td>3684.0</td>\n",
       "      <td>1.377210e+03</td>\n",
       "      <td>4.201606e+06</td>\n",
       "      <td>7.334650e+03</td>\n",
       "    </tr>\n",
       "    <tr>\n",
       "      <th>Portugal</th>\n",
       "      <td>406949677</td>\n",
       "      <td>819502983</td>\n",
       "      <td>16122.0</td>\n",
       "      <td>8.663040e+03</td>\n",
       "      <td>1.863478e+07</td>\n",
       "      <td>3.343989e+04</td>\n",
       "    </tr>\n",
       "    <tr>\n",
       "      <th>RSA</th>\n",
       "      <td>22543500</td>\n",
       "      <td>32548995</td>\n",
       "      <td>351.0</td>\n",
       "      <td>2.481000e+02</td>\n",
       "      <td>7.094220e+05</td>\n",
       "      <td>1.002310e+03</td>\n",
       "    </tr>\n",
       "    <tr>\n",
       "      <th>Saudi Arabia</th>\n",
       "      <td>907326</td>\n",
       "      <td>4903542</td>\n",
       "      <td>80.0</td>\n",
       "      <td>2.116000e+01</td>\n",
       "      <td>1.130850e+05</td>\n",
       "      <td>1.459200e+02</td>\n",
       "    </tr>\n",
       "    <tr>\n",
       "      <th>Singapore</th>\n",
       "      <td>45924767</td>\n",
       "      <td>123098270</td>\n",
       "      <td>5241.0</td>\n",
       "      <td>1.294999e+04</td>\n",
       "      <td>2.829168e+06</td>\n",
       "      <td>2.127929e+04</td>\n",
       "    </tr>\n",
       "    <tr>\n",
       "      <th>Spain</th>\n",
       "      <td>646313543</td>\n",
       "      <td>1388771792</td>\n",
       "      <td>27940.0</td>\n",
       "      <td>9.504340e+03</td>\n",
       "      <td>3.206777e+07</td>\n",
       "      <td>6.157711e+04</td>\n",
       "    </tr>\n",
       "    <tr>\n",
       "      <th>Sweden</th>\n",
       "      <td>119526304</td>\n",
       "      <td>252381184</td>\n",
       "      <td>36083.0</td>\n",
       "      <td>1.695790e+03</td>\n",
       "      <td>6.637579e+06</td>\n",
       "      <td>3.837833e+04</td>\n",
       "    </tr>\n",
       "    <tr>\n",
       "      <th>Switzerland</th>\n",
       "      <td>505998471</td>\n",
       "      <td>1031836075</td>\n",
       "      <td>30082.0</td>\n",
       "      <td>6.389270e+03</td>\n",
       "      <td>2.331229e+07</td>\n",
       "      <td>5.644395e+04</td>\n",
       "    </tr>\n",
       "    <tr>\n",
       "      <th>USA</th>\n",
       "      <td>69548386</td>\n",
       "      <td>102037846</td>\n",
       "      <td>2458.0</td>\n",
       "      <td>4.133000e+02</td>\n",
       "      <td>2.260641e+06</td>\n",
       "      <td>3.580390e+03</td>\n",
       "    </tr>\n",
       "    <tr>\n",
       "      <th>United Arab Emirates</th>\n",
       "      <td>14955073</td>\n",
       "      <td>37798220</td>\n",
       "      <td>982.0</td>\n",
       "      <td>2.298900e+02</td>\n",
       "      <td>1.018952e+06</td>\n",
       "      <td>1.902280e+03</td>\n",
       "    </tr>\n",
       "    <tr>\n",
       "      <th>United Kingdom</th>\n",
       "      <td>98921758990</td>\n",
       "      <td>198658048430</td>\n",
       "      <td>4256740.0</td>\n",
       "      <td>1.050205e+06</td>\n",
       "      <td>5.510573e+09</td>\n",
       "      <td>7.308392e+06</td>\n",
       "    </tr>\n",
       "    <tr>\n",
       "      <th>Unspecified</th>\n",
       "      <td>62162524</td>\n",
       "      <td>136422853</td>\n",
       "      <td>1789.0</td>\n",
       "      <td>7.810000e+02</td>\n",
       "      <td>3.348046e+06</td>\n",
       "      <td>2.667070e+03</td>\n",
       "    </tr>\n",
       "  </tbody>\n",
       "</table>\n",
       "</div>"
      ],
      "text/plain": [
       "                       Unnamed: 0     InvoiceNo   Quantity     UnitPrice  \\\n",
       "Country                                                                    \n",
       "Australia               265381714     657415628    83901.0  3.612500e+03   \n",
       "Austria                 118301156     223822318     4881.0  1.693900e+03   \n",
       "Bahrain                   3144388       9397437      260.0  7.895000e+01   \n",
       "Belgium                 561892335    1138462862    23237.0  7.372850e+03   \n",
       "Brazil                    5034064      17606432      356.0  1.426000e+02   \n",
       "Canada                   36331486      84252636     2763.0  9.105800e+02   \n",
       "Channel Islands         190820428     417972473     9491.0  3.389650e+03   \n",
       "Cyprus                  145370145     341888568     6361.0  3.506180e+03   \n",
       "Czech Republic            5389080      13876340      671.0  7.827000e+01   \n",
       "Denmark                 113827769     213742248     8235.0  1.195550e+03   \n",
       "EIRE                   2097307813    4064289700   140275.0  3.217928e+04   \n",
       "European Community       14044599      33434869      499.0  2.898000e+02   \n",
       "Finland                 175170746     382635802    10704.0  3.628440e+03   \n",
       "France                 2332942383    4677099224   111471.0  3.683204e+04   \n",
       "Germany                2431296505    5061018356   119261.0  3.353214e+04   \n",
       "Greece                   34549121      80713029     1557.0  6.632900e+02   \n",
       "Iceland                  42441700     101296926     2458.0  4.812100e+02   \n",
       "Israel                   73493852     139566069     4046.0  9.044400e+02   \n",
       "Italy                   219198374     425518649     8112.0  3.576210e+03   \n",
       "Japan                    55194877     176939004    26016.0  6.572100e+02   \n",
       "Lebanon                   3285315      24402420      386.0  2.424400e+02   \n",
       "Lithuania                  291110      18798630      652.0  9.944000e+01   \n",
       "Malta                    32181505      62931641      970.0  5.451900e+02   \n",
       "Netherlands             612103765    1318829653   200361.0  6.247730e+03   \n",
       "Norway                  330245507     603201625    19336.0  5.662470e+03   \n",
       "Poland                   80141564     184045618     3684.0  1.377210e+03   \n",
       "Portugal                406949677     819502983    16122.0  8.663040e+03   \n",
       "RSA                      22543500      32548995      351.0  2.481000e+02   \n",
       "Saudi Arabia               907326       4903542       80.0  2.116000e+01   \n",
       "Singapore                45924767     123098270     5241.0  1.294999e+04   \n",
       "Spain                   646313543    1388771792    27940.0  9.504340e+03   \n",
       "Sweden                  119526304     252381184    36083.0  1.695790e+03   \n",
       "Switzerland             505998471    1031836075    30082.0  6.389270e+03   \n",
       "USA                      69548386     102037846     2458.0  4.133000e+02   \n",
       "United Arab Emirates     14955073      37798220      982.0  2.298900e+02   \n",
       "United Kingdom        98921758990  198658048430  4256740.0  1.050205e+06   \n",
       "Unspecified              62162524     136422853     1789.0  7.810000e+02   \n",
       "\n",
       "                        CustomerID  CheckoutPrice  \n",
       "Country                                            \n",
       "Australia             1.472127e+07   1.385213e+05  \n",
       "Austria               4.982601e+06   1.019868e+04  \n",
       "Bahrain               2.100270e+05   5.484000e+02  \n",
       "Belgium               2.524670e+07   4.119634e+04  \n",
       "Brazil                4.086080e+05   1.143600e+03  \n",
       "Canada                2.615483e+06   3.666380e+03  \n",
       "Channel Islands       1.113834e+07   2.045044e+04  \n",
       "Cyprus                7.616904e+06   1.359038e+04  \n",
       "Czech Republic        3.195250e+05   8.267400e+02  \n",
       "Denmark               4.757518e+06   1.895534e+04  \n",
       "EIRE                  1.066949e+08   2.655459e+05  \n",
       "European Community    9.064800e+05   1.300250e+03  \n",
       "Finland               8.574309e+06   2.254608e+04  \n",
       "France                1.057506e+08   2.090240e+05  \n",
       "Germany               1.143471e+08   2.288671e+05  \n",
       "Greece                1.995867e+06   4.760520e+03  \n",
       "Iceland               2.247154e+06   4.310000e+03  \n",
       "Israel                3.139135e+06   7.221690e+03  \n",
       "Italy                 9.588028e+06   1.748324e+04  \n",
       "Japan                 4.095425e+06   3.741637e+04  \n",
       "Lebanon               5.743800e+05   1.693880e+03  \n",
       "Lithuania             5.366200e+05   1.661060e+03  \n",
       "Malta                 1.891076e+06   2.725590e+03  \n",
       "Netherlands           3.402037e+07   2.854463e+05  \n",
       "Norway                1.332216e+07   3.616544e+04  \n",
       "Poland                4.201606e+06   7.334650e+03  \n",
       "Portugal              1.863478e+07   3.343989e+04  \n",
       "RSA                   7.094220e+05   1.002310e+03  \n",
       "Saudi Arabia          1.130850e+05   1.459200e+02  \n",
       "Singapore             2.829168e+06   2.127929e+04  \n",
       "Spain                 3.206777e+07   6.157711e+04  \n",
       "Sweden                6.637579e+06   3.837833e+04  \n",
       "Switzerland           2.331229e+07   5.644395e+04  \n",
       "USA                   2.260641e+06   3.580390e+03  \n",
       "United Arab Emirates  1.018952e+06   1.902280e+03  \n",
       "United Kingdom        5.510573e+09   7.308392e+06  \n",
       "Unspecified           3.348046e+06   2.667070e+03  "
      ]
     },
     "execution_count": 14,
     "metadata": {},
     "output_type": "execute_result"
    }
   ],
   "source": [
    "# aggregate 수행. 여기선 합계 sum() 사용\n",
    "retail.groupby('Country').sum()"
   ]
  },
  {
   "cell_type": "code",
   "execution_count": 15,
   "metadata": {},
   "outputs": [
    {
     "data": {
      "text/plain": [
       "Country\n",
       "Australia               1.385213e+05\n",
       "Austria                 1.019868e+04\n",
       "Bahrain                 5.484000e+02\n",
       "Belgium                 4.119634e+04\n",
       "Brazil                  1.143600e+03\n",
       "Canada                  3.666380e+03\n",
       "Channel Islands         2.045044e+04\n",
       "Cyprus                  1.359038e+04\n",
       "Czech Republic          8.267400e+02\n",
       "Denmark                 1.895534e+04\n",
       "EIRE                    2.655459e+05\n",
       "European Community      1.300250e+03\n",
       "Finland                 2.254608e+04\n",
       "France                  2.090240e+05\n",
       "Germany                 2.288671e+05\n",
       "Greece                  4.760520e+03\n",
       "Iceland                 4.310000e+03\n",
       "Israel                  7.221690e+03\n",
       "Italy                   1.748324e+04\n",
       "Japan                   3.741637e+04\n",
       "Lebanon                 1.693880e+03\n",
       "Lithuania               1.661060e+03\n",
       "Malta                   2.725590e+03\n",
       "Netherlands             2.854463e+05\n",
       "Norway                  3.616544e+04\n",
       "Poland                  7.334650e+03\n",
       "Portugal                3.343989e+04\n",
       "RSA                     1.002310e+03\n",
       "Saudi Arabia            1.459200e+02\n",
       "Singapore               2.127929e+04\n",
       "Spain                   6.157711e+04\n",
       "Sweden                  3.837833e+04\n",
       "Switzerland             5.644395e+04\n",
       "USA                     3.580390e+03\n",
       "United Arab Emirates    1.902280e+03\n",
       "United Kingdom          7.308392e+06\n",
       "Unspecified             2.667070e+03\n",
       "Name: CheckoutPrice, dtype: float64"
      ]
     },
     "execution_count": 15,
     "metadata": {},
     "output_type": "execute_result"
    }
   ],
   "source": [
    "# CheckoutPrice 만 뽑기\n",
    "retail.groupby('Country').sum()['CheckoutPrice'] "
   ]
  },
  {
   "cell_type": "code",
   "execution_count": 16,
   "metadata": {},
   "outputs": [
    {
     "data": {
      "text/plain": [
       "Country\n",
       "Saudi Arabia            1.459200e+02\n",
       "Bahrain                 5.484000e+02\n",
       "Czech Republic          8.267400e+02\n",
       "RSA                     1.002310e+03\n",
       "Brazil                  1.143600e+03\n",
       "European Community      1.300250e+03\n",
       "Lithuania               1.661060e+03\n",
       "Lebanon                 1.693880e+03\n",
       "United Arab Emirates    1.902280e+03\n",
       "Unspecified             2.667070e+03\n",
       "Malta                   2.725590e+03\n",
       "USA                     3.580390e+03\n",
       "Canada                  3.666380e+03\n",
       "Iceland                 4.310000e+03\n",
       "Greece                  4.760520e+03\n",
       "Israel                  7.221690e+03\n",
       "Poland                  7.334650e+03\n",
       "Austria                 1.019868e+04\n",
       "Cyprus                  1.359038e+04\n",
       "Italy                   1.748324e+04\n",
       "Denmark                 1.895534e+04\n",
       "Channel Islands         2.045044e+04\n",
       "Singapore               2.127929e+04\n",
       "Finland                 2.254608e+04\n",
       "Portugal                3.343989e+04\n",
       "Norway                  3.616544e+04\n",
       "Japan                   3.741637e+04\n",
       "Sweden                  3.837833e+04\n",
       "Belgium                 4.119634e+04\n",
       "Switzerland             5.644395e+04\n",
       "Spain                   6.157711e+04\n",
       "Australia               1.385213e+05\n",
       "France                  2.090240e+05\n",
       "Germany                 2.288671e+05\n",
       "EIRE                    2.655459e+05\n",
       "Netherlands             2.854463e+05\n",
       "United Kingdom          7.308392e+06\n",
       "Name: CheckoutPrice, dtype: float64"
      ]
     },
     "execution_count": 16,
     "metadata": {},
     "output_type": "execute_result"
    }
   ],
   "source": [
    "# 정렬도 해봅시다.\n",
    "retail.groupby('Country').sum()['CheckoutPrice'].sort_values()"
   ]
  },
  {
   "cell_type": "code",
   "execution_count": 17,
   "metadata": {
    "scrolled": true
   },
   "outputs": [
    {
     "data": {
      "text/plain": [
       "Country\n",
       "Saudi Arabia            1.459200e+02\n",
       "Bahrain                 5.484000e+02\n",
       "Czech Republic          8.267400e+02\n",
       "RSA                     1.002310e+03\n",
       "Brazil                  1.143600e+03\n",
       "European Community      1.300250e+03\n",
       "Lithuania               1.661060e+03\n",
       "Lebanon                 1.693880e+03\n",
       "United Arab Emirates    1.902280e+03\n",
       "Unspecified             2.667070e+03\n",
       "Malta                   2.725590e+03\n",
       "USA                     3.580390e+03\n",
       "Canada                  3.666380e+03\n",
       "Iceland                 4.310000e+03\n",
       "Greece                  4.760520e+03\n",
       "Israel                  7.221690e+03\n",
       "Poland                  7.334650e+03\n",
       "Austria                 1.019868e+04\n",
       "Cyprus                  1.359038e+04\n",
       "Italy                   1.748324e+04\n",
       "Denmark                 1.895534e+04\n",
       "Channel Islands         2.045044e+04\n",
       "Singapore               2.127929e+04\n",
       "Finland                 2.254608e+04\n",
       "Portugal                3.343989e+04\n",
       "Norway                  3.616544e+04\n",
       "Japan                   3.741637e+04\n",
       "Sweden                  3.837833e+04\n",
       "Belgium                 4.119634e+04\n",
       "Switzerland             5.644395e+04\n",
       "Spain                   6.157711e+04\n",
       "Australia               1.385213e+05\n",
       "France                  2.090240e+05\n",
       "Germany                 2.288671e+05\n",
       "EIRE                    2.655459e+05\n",
       "Netherlands             2.854463e+05\n",
       "United Kingdom          7.308392e+06\n",
       "Name: CheckoutPrice, dtype: float64"
      ]
     },
     "execution_count": 17,
     "metadata": {},
     "output_type": "execute_result"
    }
   ],
   "source": [
    "# 변수에 담기\n",
    "rev_by_contries = retail.groupby('Country').sum()['CheckoutPrice'].sort_values()\n",
    "rev_by_contries"
   ]
  },
  {
   "cell_type": "code",
   "execution_count": 18,
   "metadata": {},
   "outputs": [],
   "source": [
    "# Saudi Arabia            1.459200e+02\n",
    "\n",
    "# United Kingdom          7.308392e+06\n",
    "\n",
    "# 개발자야 위 수치만 보면 알수 있지만.\n",
    "# 보통 비즈니스 팀에 넘겨줄때는 UI 적으로 그래프등을 같이 넘겨준다.\n",
    "\n",
    "# 간단하게 막대 그래프로 보여주죠"
   ]
  },
  {
   "cell_type": "code",
   "execution_count": 20,
   "metadata": {},
   "outputs": [
    {
     "data": {
      "text/html": [
       "<svg  width=\"550\" height=\"55\"><rect x=\"0\" y=\"0\" width=\"55\" height=\"55\" style=\"fill:#1f77b4;stroke-width:2;stroke:rgb(255,255,255)\"/><rect x=\"55\" y=\"0\" width=\"55\" height=\"55\" style=\"fill:#ff7f0e;stroke-width:2;stroke:rgb(255,255,255)\"/><rect x=\"110\" y=\"0\" width=\"55\" height=\"55\" style=\"fill:#2ca02c;stroke-width:2;stroke:rgb(255,255,255)\"/><rect x=\"165\" y=\"0\" width=\"55\" height=\"55\" style=\"fill:#d62728;stroke-width:2;stroke:rgb(255,255,255)\"/><rect x=\"220\" y=\"0\" width=\"55\" height=\"55\" style=\"fill:#9467bd;stroke-width:2;stroke:rgb(255,255,255)\"/><rect x=\"275\" y=\"0\" width=\"55\" height=\"55\" style=\"fill:#8c564b;stroke-width:2;stroke:rgb(255,255,255)\"/><rect x=\"330\" y=\"0\" width=\"55\" height=\"55\" style=\"fill:#e377c2;stroke-width:2;stroke:rgb(255,255,255)\"/><rect x=\"385\" y=\"0\" width=\"55\" height=\"55\" style=\"fill:#7f7f7f;stroke-width:2;stroke:rgb(255,255,255)\"/><rect x=\"440\" y=\"0\" width=\"55\" height=\"55\" style=\"fill:#bcbd22;stroke-width:2;stroke:rgb(255,255,255)\"/><rect x=\"495\" y=\"0\" width=\"55\" height=\"55\" style=\"fill:#17becf;stroke-width:2;stroke:rgb(255,255,255)\"/></svg>"
      ],
      "text/plain": [
       "[(0.12156862745098039, 0.4666666666666667, 0.7058823529411765),\n",
       " (1.0, 0.4980392156862745, 0.054901960784313725),\n",
       " (0.17254901960784313, 0.6274509803921569, 0.17254901960784313),\n",
       " (0.8392156862745098, 0.15294117647058825, 0.1568627450980392),\n",
       " (0.5803921568627451, 0.403921568627451, 0.7411764705882353),\n",
       " (0.5490196078431373, 0.33725490196078434, 0.29411764705882354),\n",
       " (0.8901960784313725, 0.4666666666666667, 0.7607843137254902),\n",
       " (0.4980392156862745, 0.4980392156862745, 0.4980392156862745),\n",
       " (0.7372549019607844, 0.7411764705882353, 0.13333333333333333),\n",
       " (0.09019607843137255, 0.7450980392156863, 0.8117647058823529)]"
      ]
     },
     "execution_count": 20,
     "metadata": {},
     "output_type": "execute_result"
    }
   ],
   "source": [
    "COLORS   # seaborn 에서 가져온 팔레트"
   ]
  },
  {
   "cell_type": "code",
   "execution_count": 21,
   "metadata": {},
   "outputs": [
    {
     "data": {
      "text/plain": [
       "<AxesSubplot:xlabel='Country'>"
      ]
     },
     "execution_count": 21,
     "metadata": {},
     "output_type": "execute_result"
    },
    {
     "data": {
      "image/png": "[encoded data removed]",
      "text/plain": [
       "<Figure size 1440x720 with 1 Axes>"
      ]
     },
     "metadata": {
      "needs_background": "light"
     },
     "output_type": "display_data"
    }
   ],
   "source": [
    "rev_by_contries.plot(kind=\"bar\", color=COLORS[-1], figsize=(20, 10))\n",
    "# figsize : 전체 그래프 크기\n"
   ]
  },
  {
   "cell_type": "code",
   "execution_count": 22,
   "metadata": {},
   "outputs": [
    {
     "data": {
      "text/plain": [
       "[Text(0, 0, 'Saudi Arabia'),\n",
       " Text(1, 0, 'Bahrain'),\n",
       " Text(2, 0, 'Czech Republic'),\n",
       " Text(3, 0, 'RSA'),\n",
       " Text(4, 0, 'Brazil'),\n",
       " Text(5, 0, 'European Community'),\n",
       " Text(6, 0, 'Lithuania'),\n",
       " Text(7, 0, 'Lebanon'),\n",
       " Text(8, 0, 'United Arab Emirates'),\n",
       " Text(9, 0, 'Unspecified'),\n",
       " Text(10, 0, 'Malta'),\n",
       " Text(11, 0, 'USA'),\n",
       " Text(12, 0, 'Canada'),\n",
       " Text(13, 0, 'Iceland'),\n",
       " Text(14, 0, 'Greece'),\n",
       " Text(15, 0, 'Israel'),\n",
       " Text(16, 0, 'Poland'),\n",
       " Text(17, 0, 'Austria'),\n",
       " Text(18, 0, 'Cyprus'),\n",
       " Text(19, 0, 'Italy'),\n",
       " Text(20, 0, 'Denmark'),\n",
       " Text(21, 0, 'Channel Islands'),\n",
       " Text(22, 0, 'Singapore'),\n",
       " Text(23, 0, 'Finland'),\n",
       " Text(24, 0, 'Portugal'),\n",
       " Text(25, 0, 'Norway'),\n",
       " Text(26, 0, 'Japan'),\n",
       " Text(27, 0, 'Sweden'),\n",
       " Text(28, 0, 'Belgium'),\n",
       " Text(29, 0, 'Switzerland'),\n",
       " Text(30, 0, 'Spain'),\n",
       " Text(31, 0, 'Australia'),\n",
       " Text(32, 0, 'France'),\n",
       " Text(33, 0, 'Germany'),\n",
       " Text(34, 0, 'EIRE'),\n",
       " Text(35, 0, 'Netherlands'),\n",
       " Text(36, 0, 'United Kingdom')]"
      ]
     },
     "execution_count": 22,
     "metadata": {},
     "output_type": "execute_result"
    },
    {
     "data": {
      "image/png": "[encoded data removed]",
      "text/plain": [
       "<Figure size 1440x720 with 1 Axes>"
      ]
     },
     "metadata": {
      "needs_background": "light"
     },
     "output_type": "display_data"
    }
   ],
   "source": [
    "# 그래프에 설명을 추가해보겠습니다\n",
    "plot = rev_by_contries.plot(kind=\"bar\", color=COLORS[-1], figsize=(20, 10))\n",
    "plot.set_xlabel('Country', fontsize=11)\n",
    "plot.set_ylabel('Revenue', fontsize=11)\n",
    "plot.set_title(\"Revenue by Country\", fontsize=13)\n",
    "plot.set_xticklabels(labels=rev_by_contries.index, rotation=45)"
   ]
  },
  {
   "cell_type": "code",
   "execution_count": 24,
   "metadata": {},
   "outputs": [
    {
     "data": {
      "text/plain": [
       "Country\n",
       "Saudi Arabia            0.000016\n",
       "Bahrain                 0.000062\n",
       "Czech Republic          0.000093\n",
       "RSA                     0.000112\n",
       "Brazil                  0.000128\n",
       "European Community      0.000146\n",
       "Lithuania               0.000186\n",
       "Lebanon                 0.000190\n",
       "United Arab Emirates    0.000213\n",
       "Unspecified             0.000299\n",
       "Malta                   0.000306\n",
       "USA                     0.000402\n",
       "Canada                  0.000411\n",
       "Iceland                 0.000484\n",
       "Greece                  0.000534\n",
       "Israel                  0.000810\n",
       "Poland                  0.000823\n",
       "Austria                 0.001144\n",
       "Cyprus                  0.001525\n",
       "Italy                   0.001962\n",
       "Denmark                 0.002127\n",
       "Channel Islands         0.002295\n",
       "Singapore               0.002388\n",
       "Finland                 0.002530\n",
       "Portugal                0.003752\n",
       "Norway                  0.004058\n",
       "Japan                   0.004199\n",
       "Sweden                  0.004307\n",
       "Belgium                 0.004623\n",
       "Switzerland             0.006334\n",
       "Spain                   0.006910\n",
       "Australia               0.015544\n",
       "France                  0.023456\n",
       "Germany                 0.025682\n",
       "EIRE                    0.029798\n",
       "Netherlands             0.032032\n",
       "United Kingdom          0.820116\n",
       "Name: CheckoutPrice, dtype: float64"
      ]
     },
     "execution_count": 24,
     "metadata": {},
     "output_type": "execute_result"
    }
   ],
   "source": [
    "# 비율을 알고 싶다면\n",
    "rev_by_contries / total_revenue"
   ]
  },
  {
   "cell_type": "code",
   "execution_count": null,
   "metadata": {},
   "outputs": [],
   "source": [
    "# 관찰\n",
    "# 1등이 영국 . 약 82%\n",
    "# 2등이 네덜란드  3.2% \n",
    "\n",
    "# 데이터를 보면 사실상 거의 영국에만 사업을 집중하는 형태"
   ]
  },
  {
   "cell_type": "code",
   "execution_count": 25,
   "metadata": {},
   "outputs": [],
   "source": [
    "# 앞으로 그래프 계속 그릴거기 때문에 \n",
    "# 이를 함수로 만들어 보겠습니다"
   ]
  },
  {
   "cell_type": "markdown",
   "metadata": {},
   "source": [
    "#### 그래프 유틸 함수"
   ]
  },
  {
   "cell_type": "code",
   "execution_count": 27,
   "metadata": {},
   "outputs": [],
   "source": [
    "def plot_bar(df, xlabel, ylabel, title, color=COLORS[0], figsize=(20, 10), rotation=45):\n",
    "    plot = df.plot(kind=\"bar\", color=color, figsize=figsize)\n",
    "    plot.set_xlabel(xlabel, fontsize=11)\n",
    "    plot.set_ylabel(ylabel, fontsize=11)\n",
    "    plot.set_title(title, fontsize=13)\n",
    "    plot.set_xticklabels(labels=df.index, rotation=rotation)"
   ]
  },
  {
   "cell_type": "code",
   "execution_count": 28,
   "metadata": {},
   "outputs": [
    {
     "data": {
      "image/png": "[encoded data removed]",
      "text/plain": [
       "<Figure size 1440x720 with 1 Axes>"
      ]
     },
     "metadata": {
      "needs_background": "light"
     },
     "output_type": "display_data"
    }
   ],
   "source": [
    "# 함수 동작 확인\n",
    "plot_bar(rev_by_contries, 'Country', 'Revenue', 'Revenue by Country')"
   ]
  },
  {
   "cell_type": "markdown",
   "metadata": {},
   "source": [
    "`#매출, 가장 많이 팔린 아이템 확인하기 - 2`"
   ]
  },
  {
   "cell_type": "markdown",
   "metadata": {},
   "source": [
    "# 월별 매출"
   ]
  },
  {
   "cell_type": "code",
   "execution_count": 30,
   "metadata": {},
   "outputs": [],
   "source": [
    "# '월별' 이니까, InvoiceDate 를 활용해야 겠죠?"
   ]
  },
  {
   "cell_type": "code",
   "execution_count": 41,
   "metadata": {},
   "outputs": [
    {
     "data": {
      "text/plain": [
       "Timestamp('2010-12-01 08:26:00')"
      ]
     },
     "execution_count": 41,
     "metadata": {},
     "output_type": "execute_result"
    }
   ],
   "source": [
    "# 값의 타입을 봅시다  (데이터 하나만 확인)\n",
    "time_stamp = retail['InvoiceDate'][0]\n",
    "time_stamp "
   ]
  },
  {
   "cell_type": "code",
   "execution_count": 42,
   "metadata": {},
   "outputs": [
    {
     "data": {
      "text/plain": [
       "2010"
      ]
     },
     "execution_count": 42,
     "metadata": {},
     "output_type": "execute_result"
    }
   ],
   "source": [
    "time_stamp.year"
   ]
  },
  {
   "cell_type": "code",
   "execution_count": 43,
   "metadata": {},
   "outputs": [
    {
     "data": {
      "text/plain": [
       "12"
      ]
     },
     "execution_count": 43,
     "metadata": {},
     "output_type": "execute_result"
    }
   ],
   "source": [
    "time_stamp.month"
   ]
  },
  {
   "cell_type": "code",
   "execution_count": 73,
   "metadata": {},
   "outputs": [
    {
     "data": {
      "text/plain": [
       "2"
      ]
     },
     "execution_count": 73,
     "metadata": {},
     "output_type": "execute_result"
    }
   ],
   "source": [
    "time_stamp.dayofweek  # 요일  0 : 월요일,  6 : 일요일"
   ]
  },
  {
   "cell_type": "code",
   "execution_count": 44,
   "metadata": {},
   "outputs": [
    {
     "data": {
      "text/html": [
       "<div>\n",
       "<style scoped>\n",
       "    .dataframe tbody tr th:only-of-type {\n",
       "        vertical-align: middle;\n",
       "    }\n",
       "\n",
       "    .dataframe tbody tr th {\n",
       "        vertical-align: top;\n",
       "    }\n",
       "\n",
       "    .dataframe thead th {\n",
       "        text-align: right;\n",
       "    }\n",
       "</style>\n",
       "<table border=\"1\" class=\"dataframe\">\n",
       "  <thead>\n",
       "    <tr style=\"text-align: right;\">\n",
       "      <th></th>\n",
       "      <th>Unnamed: 0</th>\n",
       "      <th>InvoiceNo</th>\n",
       "      <th>StockCode</th>\n",
       "      <th>Description</th>\n",
       "      <th>Quantity</th>\n",
       "      <th>InvoiceDate</th>\n",
       "      <th>UnitPrice</th>\n",
       "      <th>CustomerID</th>\n",
       "      <th>Country</th>\n",
       "      <th>CheckoutPrice</th>\n",
       "    </tr>\n",
       "  </thead>\n",
       "  <tbody>\n",
       "    <tr>\n",
       "      <th>0</th>\n",
       "      <td>0</td>\n",
       "      <td>536365</td>\n",
       "      <td>85123A</td>\n",
       "      <td>WHITE HANGING HEART T-LIGHT HOLDER</td>\n",
       "      <td>6</td>\n",
       "      <td>2010-12-01 08:26:00</td>\n",
       "      <td>2.55</td>\n",
       "      <td>17850</td>\n",
       "      <td>United Kingdom</td>\n",
       "      <td>15.30</td>\n",
       "    </tr>\n",
       "    <tr>\n",
       "      <th>1</th>\n",
       "      <td>1</td>\n",
       "      <td>536365</td>\n",
       "      <td>71053</td>\n",
       "      <td>WHITE METAL LANTERN</td>\n",
       "      <td>6</td>\n",
       "      <td>2010-12-01 08:26:00</td>\n",
       "      <td>3.39</td>\n",
       "      <td>17850</td>\n",
       "      <td>United Kingdom</td>\n",
       "      <td>20.34</td>\n",
       "    </tr>\n",
       "    <tr>\n",
       "      <th>2</th>\n",
       "      <td>2</td>\n",
       "      <td>536365</td>\n",
       "      <td>84406B</td>\n",
       "      <td>CREAM CUPID HEARTS COAT HANGER</td>\n",
       "      <td>8</td>\n",
       "      <td>2010-12-01 08:26:00</td>\n",
       "      <td>2.75</td>\n",
       "      <td>17850</td>\n",
       "      <td>United Kingdom</td>\n",
       "      <td>22.00</td>\n",
       "    </tr>\n",
       "    <tr>\n",
       "      <th>3</th>\n",
       "      <td>3</td>\n",
       "      <td>536365</td>\n",
       "      <td>84029G</td>\n",
       "      <td>KNITTED UNION FLAG HOT WATER BOTTLE</td>\n",
       "      <td>6</td>\n",
       "      <td>2010-12-01 08:26:00</td>\n",
       "      <td>3.39</td>\n",
       "      <td>17850</td>\n",
       "      <td>United Kingdom</td>\n",
       "      <td>20.34</td>\n",
       "    </tr>\n",
       "    <tr>\n",
       "      <th>4</th>\n",
       "      <td>4</td>\n",
       "      <td>536365</td>\n",
       "      <td>84029E</td>\n",
       "      <td>RED WOOLLY HOTTIE WHITE HEART.</td>\n",
       "      <td>6</td>\n",
       "      <td>2010-12-01 08:26:00</td>\n",
       "      <td>3.39</td>\n",
       "      <td>17850</td>\n",
       "      <td>United Kingdom</td>\n",
       "      <td>20.34</td>\n",
       "    </tr>\n",
       "  </tbody>\n",
       "</table>\n",
       "</div>"
      ],
      "text/plain": [
       "   Unnamed: 0  InvoiceNo StockCode                          Description  \\\n",
       "0           0     536365    85123A   WHITE HANGING HEART T-LIGHT HOLDER   \n",
       "1           1     536365     71053                  WHITE METAL LANTERN   \n",
       "2           2     536365    84406B       CREAM CUPID HEARTS COAT HANGER   \n",
       "3           3     536365    84029G  KNITTED UNION FLAG HOT WATER BOTTLE   \n",
       "4           4     536365    84029E       RED WOOLLY HOTTIE WHITE HEART.   \n",
       "\n",
       "   Quantity         InvoiceDate  UnitPrice  CustomerID         Country  \\\n",
       "0         6 2010-12-01 08:26:00       2.55       17850  United Kingdom   \n",
       "1         6 2010-12-01 08:26:00       3.39       17850  United Kingdom   \n",
       "2         8 2010-12-01 08:26:00       2.75       17850  United Kingdom   \n",
       "3         6 2010-12-01 08:26:00       3.39       17850  United Kingdom   \n",
       "4         6 2010-12-01 08:26:00       3.39       17850  United Kingdom   \n",
       "\n",
       "   CheckoutPrice  \n",
       "0          15.30  \n",
       "1          20.34  \n",
       "2          22.00  \n",
       "3          20.34  \n",
       "4          20.34  "
      ]
     },
     "execution_count": 44,
     "metadata": {},
     "output_type": "execute_result"
    }
   ],
   "source": [
    "# 자 이제 다시 봅시다.\n",
    "retail.head()"
   ]
  },
  {
   "cell_type": "code",
   "execution_count": null,
   "metadata": {},
   "outputs": [],
   "source": [
    "# InvoiceDate 로 그룹핑 하기에는 \n",
    "# 연도-월-일 시:분:초  를 갖고 있기 때문에 그냥 그룹핑은 안됩니다.\n",
    "# 뭔가 '함수' 등을 이용해 '월' 만 뽑아서 그룹핑을 진행해야 합니다"
   ]
  },
  {
   "cell_type": "code",
   "execution_count": 32,
   "metadata": {},
   "outputs": [
    {
     "data": {
      "text/html": [
       "<div>\n",
       "<style scoped>\n",
       "    .dataframe tbody tr th:only-of-type {\n",
       "        vertical-align: middle;\n",
       "    }\n",
       "\n",
       "    .dataframe tbody tr th {\n",
       "        vertical-align: top;\n",
       "    }\n",
       "\n",
       "    .dataframe thead th {\n",
       "        text-align: right;\n",
       "    }\n",
       "</style>\n",
       "<table border=\"1\" class=\"dataframe\">\n",
       "  <thead>\n",
       "    <tr style=\"text-align: right;\">\n",
       "      <th></th>\n",
       "      <th>Unnamed: 0</th>\n",
       "      <th>InvoiceNo</th>\n",
       "      <th>StockCode</th>\n",
       "      <th>Description</th>\n",
       "      <th>Quantity</th>\n",
       "      <th>UnitPrice</th>\n",
       "      <th>CustomerID</th>\n",
       "      <th>Country</th>\n",
       "      <th>CheckoutPrice</th>\n",
       "    </tr>\n",
       "    <tr>\n",
       "      <th>InvoiceDate</th>\n",
       "      <th></th>\n",
       "      <th></th>\n",
       "      <th></th>\n",
       "      <th></th>\n",
       "      <th></th>\n",
       "      <th></th>\n",
       "      <th></th>\n",
       "      <th></th>\n",
       "      <th></th>\n",
       "    </tr>\n",
       "  </thead>\n",
       "  <tbody>\n",
       "    <tr>\n",
       "      <th>2010-12-01 08:26:00</th>\n",
       "      <td>0</td>\n",
       "      <td>536365</td>\n",
       "      <td>85123A</td>\n",
       "      <td>WHITE HANGING HEART T-LIGHT HOLDER</td>\n",
       "      <td>6</td>\n",
       "      <td>2.55</td>\n",
       "      <td>17850</td>\n",
       "      <td>United Kingdom</td>\n",
       "      <td>15.30</td>\n",
       "    </tr>\n",
       "    <tr>\n",
       "      <th>2010-12-01 08:26:00</th>\n",
       "      <td>1</td>\n",
       "      <td>536365</td>\n",
       "      <td>71053</td>\n",
       "      <td>WHITE METAL LANTERN</td>\n",
       "      <td>6</td>\n",
       "      <td>3.39</td>\n",
       "      <td>17850</td>\n",
       "      <td>United Kingdom</td>\n",
       "      <td>20.34</td>\n",
       "    </tr>\n",
       "    <tr>\n",
       "      <th>2010-12-01 08:26:00</th>\n",
       "      <td>2</td>\n",
       "      <td>536365</td>\n",
       "      <td>84406B</td>\n",
       "      <td>CREAM CUPID HEARTS COAT HANGER</td>\n",
       "      <td>8</td>\n",
       "      <td>2.75</td>\n",
       "      <td>17850</td>\n",
       "      <td>United Kingdom</td>\n",
       "      <td>22.00</td>\n",
       "    </tr>\n",
       "    <tr>\n",
       "      <th>2010-12-01 08:26:00</th>\n",
       "      <td>3</td>\n",
       "      <td>536365</td>\n",
       "      <td>84029G</td>\n",
       "      <td>KNITTED UNION FLAG HOT WATER BOTTLE</td>\n",
       "      <td>6</td>\n",
       "      <td>3.39</td>\n",
       "      <td>17850</td>\n",
       "      <td>United Kingdom</td>\n",
       "      <td>20.34</td>\n",
       "    </tr>\n",
       "    <tr>\n",
       "      <th>2010-12-01 08:26:00</th>\n",
       "      <td>4</td>\n",
       "      <td>536365</td>\n",
       "      <td>84029E</td>\n",
       "      <td>RED WOOLLY HOTTIE WHITE HEART.</td>\n",
       "      <td>6</td>\n",
       "      <td>3.39</td>\n",
       "      <td>17850</td>\n",
       "      <td>United Kingdom</td>\n",
       "      <td>20.34</td>\n",
       "    </tr>\n",
       "    <tr>\n",
       "      <th>...</th>\n",
       "      <td>...</td>\n",
       "      <td>...</td>\n",
       "      <td>...</td>\n",
       "      <td>...</td>\n",
       "      <td>...</td>\n",
       "      <td>...</td>\n",
       "      <td>...</td>\n",
       "      <td>...</td>\n",
       "      <td>...</td>\n",
       "    </tr>\n",
       "    <tr>\n",
       "      <th>2011-12-09 12:50:00</th>\n",
       "      <td>541904</td>\n",
       "      <td>581587</td>\n",
       "      <td>22613</td>\n",
       "      <td>PACK OF 20 SPACEBOY NAPKINS</td>\n",
       "      <td>12</td>\n",
       "      <td>0.85</td>\n",
       "      <td>12680</td>\n",
       "      <td>France</td>\n",
       "      <td>10.20</td>\n",
       "    </tr>\n",
       "    <tr>\n",
       "      <th>2011-12-09 12:50:00</th>\n",
       "      <td>541905</td>\n",
       "      <td>581587</td>\n",
       "      <td>22899</td>\n",
       "      <td>CHILDREN'S APRON DOLLY GIRL</td>\n",
       "      <td>6</td>\n",
       "      <td>2.10</td>\n",
       "      <td>12680</td>\n",
       "      <td>France</td>\n",
       "      <td>12.60</td>\n",
       "    </tr>\n",
       "    <tr>\n",
       "      <th>2011-12-09 12:50:00</th>\n",
       "      <td>541906</td>\n",
       "      <td>581587</td>\n",
       "      <td>23254</td>\n",
       "      <td>CHILDRENS CUTLERY DOLLY GIRL</td>\n",
       "      <td>4</td>\n",
       "      <td>4.15</td>\n",
       "      <td>12680</td>\n",
       "      <td>France</td>\n",
       "      <td>16.60</td>\n",
       "    </tr>\n",
       "    <tr>\n",
       "      <th>2011-12-09 12:50:00</th>\n",
       "      <td>541907</td>\n",
       "      <td>581587</td>\n",
       "      <td>23255</td>\n",
       "      <td>CHILDRENS CUTLERY CIRCUS PARADE</td>\n",
       "      <td>4</td>\n",
       "      <td>4.15</td>\n",
       "      <td>12680</td>\n",
       "      <td>France</td>\n",
       "      <td>16.60</td>\n",
       "    </tr>\n",
       "    <tr>\n",
       "      <th>2011-12-09 12:50:00</th>\n",
       "      <td>541908</td>\n",
       "      <td>581587</td>\n",
       "      <td>22138</td>\n",
       "      <td>BAKING SET 9 PIECE RETROSPOT</td>\n",
       "      <td>3</td>\n",
       "      <td>4.95</td>\n",
       "      <td>12680</td>\n",
       "      <td>France</td>\n",
       "      <td>14.85</td>\n",
       "    </tr>\n",
       "  </tbody>\n",
       "</table>\n",
       "<p>397884 rows × 9 columns</p>\n",
       "</div>"
      ],
      "text/plain": [
       "                     Unnamed: 0  InvoiceNo StockCode  \\\n",
       "InvoiceDate                                            \n",
       "2010-12-01 08:26:00           0     536365    85123A   \n",
       "2010-12-01 08:26:00           1     536365     71053   \n",
       "2010-12-01 08:26:00           2     536365    84406B   \n",
       "2010-12-01 08:26:00           3     536365    84029G   \n",
       "2010-12-01 08:26:00           4     536365    84029E   \n",
       "...                         ...        ...       ...   \n",
       "2011-12-09 12:50:00      541904     581587     22613   \n",
       "2011-12-09 12:50:00      541905     581587     22899   \n",
       "2011-12-09 12:50:00      541906     581587     23254   \n",
       "2011-12-09 12:50:00      541907     581587     23255   \n",
       "2011-12-09 12:50:00      541908     581587     22138   \n",
       "\n",
       "                                             Description  Quantity  UnitPrice  \\\n",
       "InvoiceDate                                                                     \n",
       "2010-12-01 08:26:00   WHITE HANGING HEART T-LIGHT HOLDER         6       2.55   \n",
       "2010-12-01 08:26:00                  WHITE METAL LANTERN         6       3.39   \n",
       "2010-12-01 08:26:00       CREAM CUPID HEARTS COAT HANGER         8       2.75   \n",
       "2010-12-01 08:26:00  KNITTED UNION FLAG HOT WATER BOTTLE         6       3.39   \n",
       "2010-12-01 08:26:00       RED WOOLLY HOTTIE WHITE HEART.         6       3.39   \n",
       "...                                                  ...       ...        ...   \n",
       "2011-12-09 12:50:00          PACK OF 20 SPACEBOY NAPKINS        12       0.85   \n",
       "2011-12-09 12:50:00         CHILDREN'S APRON DOLLY GIRL          6       2.10   \n",
       "2011-12-09 12:50:00        CHILDRENS CUTLERY DOLLY GIRL          4       4.15   \n",
       "2011-12-09 12:50:00      CHILDRENS CUTLERY CIRCUS PARADE         4       4.15   \n",
       "2011-12-09 12:50:00        BAKING SET 9 PIECE RETROSPOT          3       4.95   \n",
       "\n",
       "                     CustomerID         Country  CheckoutPrice  \n",
       "InvoiceDate                                                     \n",
       "2010-12-01 08:26:00       17850  United Kingdom          15.30  \n",
       "2010-12-01 08:26:00       17850  United Kingdom          20.34  \n",
       "2010-12-01 08:26:00       17850  United Kingdom          22.00  \n",
       "2010-12-01 08:26:00       17850  United Kingdom          20.34  \n",
       "2010-12-01 08:26:00       17850  United Kingdom          20.34  \n",
       "...                         ...             ...            ...  \n",
       "2011-12-09 12:50:00       12680          France          10.20  \n",
       "2011-12-09 12:50:00       12680          France          12.60  \n",
       "2011-12-09 12:50:00       12680          France          16.60  \n",
       "2011-12-09 12:50:00       12680          France          16.60  \n",
       "2011-12-09 12:50:00       12680          France          14.85  \n",
       "\n",
       "[397884 rows x 9 columns]"
      ]
     },
     "execution_count": 32,
     "metadata": {},
     "output_type": "execute_result"
    }
   ],
   "source": [
    "# 우선, 함 InvoceDate 로 인덱스 만들어 보자\n",
    "retail.set_index('InvoiceDate')"
   ]
  },
  {
   "cell_type": "code",
   "execution_count": 49,
   "metadata": {},
   "outputs": [],
   "source": [
    "# 그리고 groupby.groupby()\n",
    "# retail.set_index('InvoiceDate').groupby(함수)\n",
    "\n",
    "# 함수를 하나 만들어 봅시다\n",
    "# 1월은 '01',  2월은 '02'\n",
    "def extract_month(date):\n",
    "    month = str(date.month)\n",
    "    # 연도에 대한 값만 문자열 바꾸기\n",
    "    if date.month < 10:\n",
    "        month = '0' + month\n",
    "    return str(date.year) + month\n",
    "\n",
    "# 2010-12-01 08:26:00 ==> 201012  로 변환될거다"
   ]
  },
  {
   "cell_type": "code",
   "execution_count": 55,
   "metadata": {},
   "outputs": [
    {
     "data": {
      "text/plain": [
       "'201012'"
      ]
     },
     "execution_count": 55,
     "metadata": {},
     "output_type": "execute_result"
    }
   ],
   "source": [
    "# 함수 동작 확인\n",
    "extract_month(retail['InvoiceDate'][0])"
   ]
  },
  {
   "cell_type": "code",
   "execution_count": 56,
   "metadata": {},
   "outputs": [
    {
     "data": {
      "text/plain": [
       "'201105'"
      ]
     },
     "execution_count": 56,
     "metadata": {},
     "output_type": "execute_result"
    }
   ],
   "source": [
    "extract_month(retail['InvoiceDate'][123000])"
   ]
  },
  {
   "cell_type": "code",
   "execution_count": 57,
   "metadata": {},
   "outputs": [],
   "source": [
    "# 이제 월별 groupby 를 해보자!"
   ]
  },
  {
   "cell_type": "code",
   "execution_count": 59,
   "metadata": {},
   "outputs": [
    {
     "data": {
      "text/plain": [
       "<pandas.core.groupby.generic.DataFrameGroupBy object at 0x000002055E4E35E0>"
      ]
     },
     "execution_count": 59,
     "metadata": {},
     "output_type": "execute_result"
    }
   ],
   "source": [
    "retail.set_index('InvoiceDate').groupby(extract_month)"
   ]
  },
  {
   "cell_type": "code",
   "execution_count": 60,
   "metadata": {},
   "outputs": [
    {
     "data": {
      "text/plain": [
       "201012    26157\n",
       "201101    21229\n",
       "201102    19927\n",
       "201103    27175\n",
       "201104    22642\n",
       "201105    28320\n",
       "201106    27185\n",
       "201107    26825\n",
       "201108    27007\n",
       "201109    40028\n",
       "201110    49554\n",
       "201111    64531\n",
       "201112    17304\n",
       "dtype: int64"
      ]
     },
     "execution_count": 60,
     "metadata": {},
     "output_type": "execute_result"
    }
   ],
   "source": [
    "# 월별 그룹 한 결과의 각 그룹별 데이터 개수 확인해보자\n",
    "retail.set_index('InvoiceDate').groupby(extract_month).size()"
   ]
  },
  {
   "cell_type": "code",
   "execution_count": 61,
   "metadata": {},
   "outputs": [
    {
     "data": {
      "text/html": [
       "<div>\n",
       "<style scoped>\n",
       "    .dataframe tbody tr th:only-of-type {\n",
       "        vertical-align: middle;\n",
       "    }\n",
       "\n",
       "    .dataframe tbody tr th {\n",
       "        vertical-align: top;\n",
       "    }\n",
       "\n",
       "    .dataframe thead th {\n",
       "        text-align: right;\n",
       "    }\n",
       "</style>\n",
       "<table border=\"1\" class=\"dataframe\">\n",
       "  <thead>\n",
       "    <tr style=\"text-align: right;\">\n",
       "      <th></th>\n",
       "      <th>Unnamed: 0</th>\n",
       "      <th>InvoiceNo</th>\n",
       "      <th>Quantity</th>\n",
       "      <th>UnitPrice</th>\n",
       "      <th>CustomerID</th>\n",
       "      <th>CheckoutPrice</th>\n",
       "    </tr>\n",
       "  </thead>\n",
       "  <tbody>\n",
       "    <tr>\n",
       "      <th>201012</th>\n",
       "      <td>520083532</td>\n",
       "      <td>14072707240</td>\n",
       "      <td>312265</td>\n",
       "      <td>81935.609375</td>\n",
       "      <td>406196835</td>\n",
       "      <td>572713.890</td>\n",
       "    </tr>\n",
       "    <tr>\n",
       "      <th>201101</th>\n",
       "      <td>1285805664</td>\n",
       "      <td>11492803914</td>\n",
       "      <td>349098</td>\n",
       "      <td>66964.992188</td>\n",
       "      <td>321863240</td>\n",
       "      <td>569445.040</td>\n",
       "    </tr>\n",
       "    <tr>\n",
       "      <th>201102</th>\n",
       "      <td>1823668831</td>\n",
       "      <td>10841427849</td>\n",
       "      <td>265622</td>\n",
       "      <td>63185.757812</td>\n",
       "      <td>305207531</td>\n",
       "      <td>447137.350</td>\n",
       "    </tr>\n",
       "    <tr>\n",
       "      <th>201103</th>\n",
       "      <td>3350125843</td>\n",
       "      <td>14860772808</td>\n",
       "      <td>348503</td>\n",
       "      <td>88563.101562</td>\n",
       "      <td>412653906</td>\n",
       "      <td>595500.760</td>\n",
       "    </tr>\n",
       "    <tr>\n",
       "      <th>201104</th>\n",
       "      <td>3541342366</td>\n",
       "      <td>12452863569</td>\n",
       "      <td>292222</td>\n",
       "      <td>79005.484375</td>\n",
       "      <td>345925717</td>\n",
       "      <td>469200.361</td>\n",
       "    </tr>\n",
       "    <tr>\n",
       "      <th>201105</th>\n",
       "      <td>5400092744</td>\n",
       "      <td>15669690030</td>\n",
       "      <td>373601</td>\n",
       "      <td>102128.281250</td>\n",
       "      <td>431128726</td>\n",
       "      <td>678594.560</td>\n",
       "    </tr>\n",
       "    <tr>\n",
       "      <th>201106</th>\n",
       "      <td>6178964643</td>\n",
       "      <td>15138257658</td>\n",
       "      <td>363699</td>\n",
       "      <td>85274.726562</td>\n",
       "      <td>416663110</td>\n",
       "      <td>661213.690</td>\n",
       "    </tr>\n",
       "    <tr>\n",
       "      <th>201107</th>\n",
       "      <td>7154671014</td>\n",
       "      <td>15030051462</td>\n",
       "      <td>369420</td>\n",
       "      <td>75919.898438</td>\n",
       "      <td>410674538</td>\n",
       "      <td>600091.011</td>\n",
       "    </tr>\n",
       "    <tr>\n",
       "      <th>201108</th>\n",
       "      <td>8160826087</td>\n",
       "      <td>15216184267</td>\n",
       "      <td>398121</td>\n",
       "      <td>79423.828125</td>\n",
       "      <td>412055398</td>\n",
       "      <td>645343.900</td>\n",
       "    </tr>\n",
       "    <tr>\n",
       "      <th>201109</th>\n",
       "      <td>13851161688</td>\n",
       "      <td>22702364753</td>\n",
       "      <td>544897</td>\n",
       "      <td>119053.062500</td>\n",
       "      <td>610865157</td>\n",
       "      <td>952838.382</td>\n",
       "    </tr>\n",
       "    <tr>\n",
       "      <th>201110</th>\n",
       "      <td>19872123452</td>\n",
       "      <td>28315027744</td>\n",
       "      <td>593900</td>\n",
       "      <td>165849.984375</td>\n",
       "      <td>755877847</td>\n",
       "      <td>1039318.790</td>\n",
       "    </tr>\n",
       "    <tr>\n",
       "      <th>201111</th>\n",
       "      <td>30516909572</td>\n",
       "      <td>37219119056</td>\n",
       "      <td>669051</td>\n",
       "      <td>185522.453125</td>\n",
       "      <td>991300319</td>\n",
       "      <td>1161817.380</td>\n",
       "    </tr>\n",
       "    <tr>\n",
       "      <th>201112</th>\n",
       "      <td>9140194426</td>\n",
       "      <td>10049237997</td>\n",
       "      <td>287413</td>\n",
       "      <td>47173.429688</td>\n",
       "      <td>264994057</td>\n",
       "      <td>518192.790</td>\n",
       "    </tr>\n",
       "  </tbody>\n",
       "</table>\n",
       "</div>"
      ],
      "text/plain": [
       "         Unnamed: 0    InvoiceNo  Quantity      UnitPrice  CustomerID  \\\n",
       "201012    520083532  14072707240    312265   81935.609375   406196835   \n",
       "201101   1285805664  11492803914    349098   66964.992188   321863240   \n",
       "201102   1823668831  10841427849    265622   63185.757812   305207531   \n",
       "201103   3350125843  14860772808    348503   88563.101562   412653906   \n",
       "201104   3541342366  12452863569    292222   79005.484375   345925717   \n",
       "201105   5400092744  15669690030    373601  102128.281250   431128726   \n",
       "201106   6178964643  15138257658    363699   85274.726562   416663110   \n",
       "201107   7154671014  15030051462    369420   75919.898438   410674538   \n",
       "201108   8160826087  15216184267    398121   79423.828125   412055398   \n",
       "201109  13851161688  22702364753    544897  119053.062500   610865157   \n",
       "201110  19872123452  28315027744    593900  165849.984375   755877847   \n",
       "201111  30516909572  37219119056    669051  185522.453125   991300319   \n",
       "201112   9140194426  10049237997    287413   47173.429688   264994057   \n",
       "\n",
       "        CheckoutPrice  \n",
       "201012     572713.890  \n",
       "201101     569445.040  \n",
       "201102     447137.350  \n",
       "201103     595500.760  \n",
       "201104     469200.361  \n",
       "201105     678594.560  \n",
       "201106     661213.690  \n",
       "201107     600091.011  \n",
       "201108     645343.900  \n",
       "201109     952838.382  \n",
       "201110    1039318.790  \n",
       "201111    1161817.380  \n",
       "201112     518192.790  "
      ]
     },
     "execution_count": 61,
     "metadata": {},
     "output_type": "execute_result"
    }
   ],
   "source": [
    "retail.set_index('InvoiceDate').groupby(extract_month).sum()"
   ]
  },
  {
   "cell_type": "code",
   "execution_count": 62,
   "metadata": {},
   "outputs": [
    {
     "data": {
      "text/plain": [
       "201012     572713.890\n",
       "201101     569445.040\n",
       "201102     447137.350\n",
       "201103     595500.760\n",
       "201104     469200.361\n",
       "201105     678594.560\n",
       "201106     661213.690\n",
       "201107     600091.011\n",
       "201108     645343.900\n",
       "201109     952838.382\n",
       "201110    1039318.790\n",
       "201111    1161817.380\n",
       "201112     518192.790\n",
       "Name: CheckoutPrice, dtype: float64"
      ]
     },
     "execution_count": 62,
     "metadata": {},
     "output_type": "execute_result"
    }
   ],
   "source": [
    "retail.set_index('InvoiceDate').groupby(extract_month).sum()['CheckoutPrice']"
   ]
  },
  {
   "cell_type": "code",
   "execution_count": 63,
   "metadata": {},
   "outputs": [
    {
     "data": {
      "text/plain": [
       "201012     572713.890\n",
       "201101     569445.040\n",
       "201102     447137.350\n",
       "201103     595500.760\n",
       "201104     469200.361\n",
       "201105     678594.560\n",
       "201106     661213.690\n",
       "201107     600091.011\n",
       "201108     645343.900\n",
       "201109     952838.382\n",
       "201110    1039318.790\n",
       "201111    1161817.380\n",
       "201112     518192.790\n",
       "Name: CheckoutPrice, dtype: float64"
      ]
     },
     "execution_count": 63,
     "metadata": {},
     "output_type": "execute_result"
    }
   ],
   "source": [
    "# 변수에 담기\n",
    "rev_by_month = retail.set_index('InvoiceDate').groupby(extract_month).sum()['CheckoutPrice']\n",
    "rev_by_month"
   ]
  },
  {
   "cell_type": "code",
   "execution_count": 64,
   "metadata": {},
   "outputs": [],
   "source": [
    "# 결과\n",
    "\n",
    "# 잘 정렬되었고, 월별로 그룹핑 된 결과 확인 가능\n",
    "\n",
    "# 데이터 관찰\n",
    "# 10월 11월에 \n",
    "\n",
    "# 이 또한 그래프 그려보겠습니다"
   ]
  },
  {
   "cell_type": "code",
   "execution_count": 65,
   "metadata": {},
   "outputs": [
    {
     "data": {
      "image/png": "[encoded data removed]",
      "text/plain": [
       "<Figure size 1440x720 with 1 Axes>"
      ]
     },
     "metadata": {
      "needs_background": "light"
     },
     "output_type": "display_data"
    }
   ],
   "source": [
    "plot_bar(rev_by_month, 'Month', \"Revenue\", \"Revenue by Month\")"
   ]
  },
  {
   "cell_type": "code",
   "execution_count": 67,
   "metadata": {},
   "outputs": [],
   "source": [
    "# 데이터 관찰\n",
    "# 거의 비슷비슷하지만, 증가의 추이를 보임\n",
    "# 9 10, 11 월에 확 증가\n",
    "# 11월에 정점\n",
    "\n",
    "# 북미 유럽쪽 쇼핑몰 데이터는 11,12월이 1년중 가장 많은 매출 기록 함\n",
    "\n",
    "# 일반적으로는 12월이 많으나...\n",
    "# 여기서는 그리 보이지 않는다\n",
    "\n",
    "# 왜?\n",
    "# 이 원본 데이터가 12월 전체를 표현하지 않고 있다.\n",
    "\n",
    "# 함 확인해보자"
   ]
  },
  {
   "cell_type": "code",
   "execution_count": 68,
   "metadata": {},
   "outputs": [
    {
     "data": {
      "text/plain": [
       "397883   2011-12-09 12:50:00\n",
       "397875   2011-12-09 12:50:00\n",
       "397882   2011-12-09 12:50:00\n",
       "397870   2011-12-09 12:50:00\n",
       "397871   2011-12-09 12:50:00\n",
       "                 ...        \n",
       "4        2010-12-01 08:26:00\n",
       "3        2010-12-01 08:26:00\n",
       "2        2010-12-01 08:26:00\n",
       "1        2010-12-01 08:26:00\n",
       "0        2010-12-01 08:26:00\n",
       "Name: InvoiceDate, Length: 397884, dtype: datetime64[ns]"
      ]
     },
     "execution_count": 68,
     "metadata": {},
     "output_type": "execute_result"
    }
   ],
   "source": [
    "retail['InvoiceDate'].sort_values(ascending=False)\n",
    "\n",
    "# 2011-12-09 까지의 데이터다.. 즉 12월은 1/3 정도 밖에 반영이 안된셈이다."
   ]
  },
  {
   "cell_type": "code",
   "execution_count": 70,
   "metadata": {},
   "outputs": [],
   "source": [
    "# 완성코드"
   ]
  },
  {
   "cell_type": "code",
   "execution_count": null,
   "metadata": {},
   "outputs": [],
   "source": []
  },
  {
   "cell_type": "code",
   "execution_count": null,
   "metadata": {},
   "outputs": [],
   "source": []
  },
  {
   "cell_type": "markdown",
   "metadata": {},
   "source": [
    "---\n",
    "# 요일별 매출"
   ]
  },
  {
   "cell_type": "code",
   "execution_count": 69,
   "metadata": {},
   "outputs": [],
   "source": [
    "# 이제 요일별 매출을 뽑아보자\n",
    "# invoicedate 를 날짜형으로 뽑았기 때문에 .  굉장히 쉽게 요일을 구할수 있다. (날짜 -> 요일)"
   ]
  },
  {
   "cell_type": "code",
   "execution_count": 77,
   "metadata": {},
   "outputs": [
    {
     "data": {
      "text/plain": [
       "0    64893\n",
       "1    66473\n",
       "2    68885\n",
       "3    80035\n",
       "4    54825\n",
       "6    62773\n",
       "dtype: int64"
      ]
     },
     "execution_count": 77,
     "metadata": {},
     "output_type": "execute_result"
    }
   ],
   "source": [
    "retail.set_index('InvoiceDate').groupby(lambda date:date.dayofweek).size()"
   ]
  },
  {
   "cell_type": "code",
   "execution_count": 79,
   "metadata": {},
   "outputs": [
    {
     "data": {
      "text/plain": [
       "0    1367146.411\n",
       "1    1700634.631\n",
       "2    1588336.170\n",
       "3    1976859.070\n",
       "4    1485917.401\n",
       "6     792514.221\n",
       "Name: CheckoutPrice, dtype: float64"
      ]
     },
     "execution_count": 79,
     "metadata": {},
     "output_type": "execute_result"
    }
   ],
   "source": [
    "rev_by_dow =  retail.set_index('InvoiceDate').groupby(lambda date:date.dayofweek).sum()['CheckoutPrice']\n",
    "rev_by_dow"
   ]
  },
  {
   "cell_type": "code",
   "execution_count": 81,
   "metadata": {},
   "outputs": [],
   "source": [
    "# 관찰\n",
    "# 다른데이터가 없기 때문에 유추할수는 없지만\n",
    "# 회사의 방침? 일까?  5 (토요일) 데이터가 없다"
   ]
  },
  {
   "cell_type": "code",
   "execution_count": 83,
   "metadata": {},
   "outputs": [
    {
     "data": {
      "image/png": "[encoded data removed]",
      "text/plain": [
       "<Figure size 1440x720 with 1 Axes>"
      ]
     },
     "metadata": {
      "needs_background": "light"
     },
     "output_type": "display_data"
    }
   ],
   "source": [
    "# 시각화 해봅시다\n",
    "plot_bar(rev_by_dow, 'DOW', 'Revenue', 'Revenue by DOW')"
   ]
  },
  {
   "cell_type": "code",
   "execution_count": 84,
   "metadata": {},
   "outputs": [],
   "source": [
    "# 위에서 0, 1, 2, .. 6 으로 표현되니까.. 보기가 쉽지 않죠..\n",
    "# 간단한 트릭을 써서 바꿔보도록 하겠습니다"
   ]
  },
  {
   "cell_type": "code",
   "execution_count": 89,
   "metadata": {},
   "outputs": [],
   "source": [
    "DAY_OF_WEEK = ['Mon', 'Tue', 'Wed', \"Thu\", 'Fri', \"Sat\", 'Sun']  # 월요일 인덱스가 0 이라서."
   ]
  },
  {
   "cell_type": "code",
   "execution_count": 90,
   "metadata": {},
   "outputs": [],
   "source": [
    "#  DAY_OF_WEEK[rev_by_dow]  # <-- 에러다 . 왜?  위는 일반 리스트이기 때문에"
   ]
  },
  {
   "cell_type": "code",
   "execution_count": 91,
   "metadata": {},
   "outputs": [],
   "source": [
    "DAY_OF_WEEK = np.array(['Mon', 'Tue', 'Wed', \"Thu\", 'Fri', \"Sat\", 'Sun'])"
   ]
  },
  {
   "cell_type": "code",
   "execution_count": 94,
   "metadata": {},
   "outputs": [
    {
     "data": {
      "text/plain": [
       "Int64Index([0, 1, 2, 3, 4, 6], dtype='int64')"
      ]
     },
     "execution_count": 94,
     "metadata": {},
     "output_type": "execute_result"
    }
   ],
   "source": [
    "rev_by_dow.index"
   ]
  },
  {
   "cell_type": "code",
   "execution_count": 96,
   "metadata": {},
   "outputs": [],
   "source": [
    "rev_by_dow.index = DAY_OF_WEEK[rev_by_dow.index]"
   ]
  },
  {
   "cell_type": "code",
   "execution_count": 100,
   "metadata": {},
   "outputs": [
    {
     "data": {
      "text/plain": [
       "Mon    1367146.411\n",
       "Tue    1700634.631\n",
       "Wed    1588336.170\n",
       "Thu    1976859.070\n",
       "Fri    1485917.401\n",
       "Sun     792514.221\n",
       "Name: CheckoutPrice, dtype: float64"
      ]
     },
     "execution_count": 100,
     "metadata": {},
     "output_type": "execute_result"
    }
   ],
   "source": [
    "rev_by_dow"
   ]
  },
  {
   "cell_type": "code",
   "execution_count": 98,
   "metadata": {},
   "outputs": [
    {
     "data": {
      "image/png": "[encoded data removed]",
      "text/plain": [
       "<Figure size 1440x720 with 1 Axes>"
      ]
     },
     "metadata": {
      "needs_background": "light"
     },
     "output_type": "display_data"
    }
   ],
   "source": [
    "# 이제는 각각의 요일이 보일 것이다.\n",
    "plot_bar(rev_by_dow, 'DOW', 'Revenue', 'Revenue by DOW')"
   ]
  },
  {
   "cell_type": "code",
   "execution_count": 99,
   "metadata": {},
   "outputs": [],
   "source": [
    "# 데이터 관찰\n",
    "# 목요일 까진 완만히 증가하다가\n",
    "# 목요일 이후론 하락함."
   ]
  },
  {
   "cell_type": "markdown",
   "metadata": {},
   "source": [
    "---\n",
    "# 시간별 매출"
   ]
  },
  {
   "cell_type": "code",
   "execution_count": 101,
   "metadata": {},
   "outputs": [],
   "source": [
    "# 시간별 매출.\n",
    "# 앞에서 한것과 거의 차이가 없습니다"
   ]
  },
  {
   "cell_type": "code",
   "execution_count": 103,
   "metadata": {},
   "outputs": [
    {
     "data": {
      "text/plain": [
       "6         1\n",
       "7       379\n",
       "8      8690\n",
       "9     21944\n",
       "10    37997\n",
       "11    49084\n",
       "12    72065\n",
       "13    64026\n",
       "14    54118\n",
       "15    45369\n",
       "16    24089\n",
       "17    13071\n",
       "18     2928\n",
       "19     3321\n",
       "20      802\n",
       "dtype: int64"
      ]
     },
     "execution_count": 103,
     "metadata": {},
     "output_type": "execute_result"
    }
   ],
   "source": [
    "retail.set_index('InvoiceDate').groupby(lambda date:date.hour).size()"
   ]
  },
  {
   "cell_type": "code",
   "execution_count": 102,
   "metadata": {},
   "outputs": [
    {
     "data": {
      "text/plain": [
       "6           4.250\n",
       "7       31059.210\n",
       "8      282115.630\n",
       "9      842605.171\n",
       "10    1261192.571\n",
       "11    1104558.750\n",
       "12    1378571.480\n",
       "13    1173264.750\n",
       "14     995629.371\n",
       "15     966191.750\n",
       "16     468885.800\n",
       "17     234413.521\n",
       "18     104954.430\n",
       "19      49028.460\n",
       "20      18932.760\n",
       "Name: CheckoutPrice, dtype: float64"
      ]
     },
     "execution_count": 102,
     "metadata": {},
     "output_type": "execute_result"
    }
   ],
   "source": [
    "rev_by_hour = retail.set_index('InvoiceDate').groupby(lambda date:date.hour).sum()['CheckoutPrice']\n",
    "rev_by_hour"
   ]
  },
  {
   "cell_type": "code",
   "execution_count": 104,
   "metadata": {},
   "outputs": [
    {
     "data": {
      "image/png": "[encoded data removed]",
      "text/plain": [
       "<Figure size 1440x720 with 1 Axes>"
      ]
     },
     "metadata": {
      "needs_background": "light"
     },
     "output_type": "display_data"
    }
   ],
   "source": [
    "plot_bar(rev_by_hour, 'hour', 'revenue', 'revenue by hour')"
   ]
  },
  {
   "cell_type": "code",
   "execution_count": 105,
   "metadata": {},
   "outputs": [],
   "source": [
    "# 결과 고찰\n",
    "# 재미있는 사실.  새벽시간에 는 주문이 없다.\n",
    "# 12시까지 증가세\n",
    "# 3시 이후에는 팍 감소..\n",
    "\n",
    "# 분석이란 이렇게 유추로부터 시작합니다\n",
    "# \"3시 이후에는 왜 떨어지는가?\"\n",
    "# 유추를 해보는 겁니다\n",
    "# 직장인들이 퇴근을 하는 시간이라서?\n",
    "# 그렇다면, 우리는 이 시간을 버리는 시간으로 보고\n",
    "# 그 나머지 시간에 집중해야 한다... <-- 뭐 이런식으로 유추하면서 데이터 분석을 해나갈수 있겠죠\n",
    "\n",
    "# 섣불리 유추하는 것은 굉장히 위험합니다.\n",
    "# 현상을 보고,  그 현상을 파악하고 \n",
    "# 거기서부터 '가설' 을 세우고, 그 가설을 '검증' 하기 위해서 \n",
    "# 하나씩 테스트 (ex : A-B 테스트) 를 해보는 것이 중요합니다.\n",
    "\n",
    "# 자. 암튼, 현상을 파악하는게 분석의 첫번째 단계입니다\n",
    "\n",
    "# 그래서\n",
    "# 지금까지 발견된것으로부터 정리를 해보겠씁니다 ↓\n"
   ]
  },
  {
   "cell_type": "markdown",
   "metadata": {},
   "source": [
    "#### 매출 데이터로부터 insight \n",
    " - 전체 매출의 82%가 UK에서 발생\n",
    " - 11년도의 가장 많은 주문이 발생한 달 11월(12월의 전체 데이터가 반영이 되진 않았음)\n",
    "  - 11, 12월의 판매량이 압도(블랙프라이데이, 사이버먼데이, 크리스마스 휴일)\n",
    " - 일주일중 목요일까지는 성장세를 보이다가, 이후로 하락(토요일에는 주문X)\n",
    " - 7시를 시작으로 주문이 시작되어 12시까지 증가세, 15시까지 하락을, 15시 이후 부터 급락)\n",
    "    - 유추: 점심시간 자유,  15시부터는 퇴근 페이스"
   ]
  },
  {
   "cell_type": "code",
   "execution_count": null,
   "metadata": {},
   "outputs": [],
   "source": [
    "# 위와 같이 정리를 하곤\n",
    "# 추가적으로 더 많은 실험을 할수도 있고 도출해낼수 있다."
   ]
  },
  {
   "cell_type": "markdown",
   "metadata": {},
   "source": [
    "---\n",
    "# 제품별 metrics\n",
    " - Top 10 판매 제품\n",
    " - Top 10 매출 제품"
   ]
  },
  {
   "cell_type": "code",
   "execution_count": 106,
   "metadata": {},
   "outputs": [],
   "source": [
    "# 다음으론 가장 많은 매출/판매을 올린 제품을 뽑아봅시다"
   ]
  },
  {
   "cell_type": "code",
   "execution_count": 107,
   "metadata": {},
   "outputs": [
    {
     "data": {
      "text/plain": [
       "StockCode\n",
       "10002       49\n",
       "10080       21\n",
       "10120       30\n",
       "10123C       3\n",
       "10124A       5\n",
       "          ... \n",
       "C2         133\n",
       "DOT         16\n",
       "M          284\n",
       "PADS         3\n",
       "POST      1099\n",
       "Length: 3665, dtype: int64"
      ]
     },
     "execution_count": 107,
     "metadata": {},
     "output_type": "execute_result"
    }
   ],
   "source": [
    "# 제품코드 StockCode 기준으로 그룹핑\n",
    "retail.groupby('StockCode').size()"
   ]
  },
  {
   "cell_type": "code",
   "execution_count": 111,
   "metadata": {},
   "outputs": [
    {
     "data": {
      "text/plain": [
       "StockCode\n",
       "23843     80995\n",
       "23166     77916\n",
       "84077     54415\n",
       "22197     49183\n",
       "85099B    46181\n",
       "85123A    36782\n",
       "84879     35362\n",
       "21212     33693\n",
       "23084     27202\n",
       "22492     26076\n",
       "Name: Quantity, dtype: int32"
      ]
     },
     "execution_count": 111,
     "metadata": {},
     "output_type": "execute_result"
    }
   ],
   "source": [
    "top_selling = retail.groupby('StockCode').sum()['Quantity'].sort_values(ascending=False)[:10]  # 판매수량 Quantity\n",
    "top_selling"
   ]
  },
  {
   "cell_type": "code",
   "execution_count": null,
   "metadata": {},
   "outputs": [],
   "source": [
    "# 매출이 가장 높은 Top10"
   ]
  },
  {
   "cell_type": "code",
   "execution_count": 112,
   "metadata": {},
   "outputs": [
    {
     "data": {
      "text/plain": [
       "StockCode\n",
       "23843     168469.60\n",
       "22423     142592.95\n",
       "85123A    100603.50\n",
       "85099B     85220.78\n",
       "23166      81416.73\n",
       "POST       77803.96\n",
       "47566      68844.33\n",
       "84879      56580.34\n",
       "M          53779.93\n",
       "23084      51346.20\n",
       "Name: CheckoutPrice, dtype: float64"
      ]
     },
     "execution_count": 112,
     "metadata": {},
     "output_type": "execute_result"
    }
   ],
   "source": [
    "top_revenue = retail.groupby('StockCode').sum()['CheckoutPrice'].sort_values(ascending=False)[:10]  # 판매수량 Quantity\n",
    "top_revenue"
   ]
  },
  {
   "cell_type": "code",
   "execution_count": null,
   "metadata": {},
   "outputs": [],
   "source": [
    "# 23843 상품은    168469.60  의 매출을 올림"
   ]
  },
  {
   "cell_type": "code",
   "execution_count": null,
   "metadata": {},
   "outputs": [],
   "source": [
    "# 어떤 상품들이 많이 팔렸는지.  상품별로 월별 추이도 확인할수 있다."
   ]
  },
  {
   "cell_type": "markdown",
   "metadata": {},
   "source": [
    "#### top 3 아이템의 월별 판매량 추이"
   ]
  },
  {
   "cell_type": "code",
   "execution_count": 113,
   "metadata": {},
   "outputs": [],
   "source": [
    "# Tom10 으로 안한이유는 12개월 x 10개 => 120개...  하나의 그래프에 표현하기 힘들어서"
   ]
  },
  {
   "cell_type": "code",
   "execution_count": 114,
   "metadata": {},
   "outputs": [
    {
     "data": {
      "text/plain": [
       "StockCode        \n",
       "10002      201012     16\n",
       "           201101     18\n",
       "           201102      5\n",
       "           201103      5\n",
       "           201104      5\n",
       "                    ... \n",
       "POST       201108     89\n",
       "           201109    111\n",
       "           201110    118\n",
       "           201111    162\n",
       "           201112     49\n",
       "Length: 30407, dtype: int64"
      ]
     },
     "execution_count": 114,
     "metadata": {},
     "output_type": "execute_result"
    }
   ],
   "source": [
    "# \"제품-월\" 2-level 의  그룹으로 그룹핑 해야 한다.\n",
    "retail.set_index('InvoiceDate').groupby(['StockCode', extract_month]).size()"
   ]
  },
  {
   "cell_type": "code",
   "execution_count": 115,
   "metadata": {},
   "outputs": [
    {
     "data": {
      "text/html": [
       "<div>\n",
       "<style scoped>\n",
       "    .dataframe tbody tr th:only-of-type {\n",
       "        vertical-align: middle;\n",
       "    }\n",
       "\n",
       "    .dataframe tbody tr th {\n",
       "        vertical-align: top;\n",
       "    }\n",
       "\n",
       "    .dataframe thead th {\n",
       "        text-align: right;\n",
       "    }\n",
       "</style>\n",
       "<table border=\"1\" class=\"dataframe\">\n",
       "  <thead>\n",
       "    <tr style=\"text-align: right;\">\n",
       "      <th></th>\n",
       "      <th></th>\n",
       "      <th>Quantity</th>\n",
       "      <th>CheckoutPrice</th>\n",
       "    </tr>\n",
       "    <tr>\n",
       "      <th>StockCode</th>\n",
       "      <th></th>\n",
       "      <th></th>\n",
       "      <th></th>\n",
       "    </tr>\n",
       "  </thead>\n",
       "  <tbody>\n",
       "    <tr>\n",
       "      <th rowspan=\"5\" valign=\"top\">10002</th>\n",
       "      <th>201012</th>\n",
       "      <td>224</td>\n",
       "      <td>190.40</td>\n",
       "    </tr>\n",
       "    <tr>\n",
       "      <th>201101</th>\n",
       "      <td>337</td>\n",
       "      <td>286.45</td>\n",
       "    </tr>\n",
       "    <tr>\n",
       "      <th>201102</th>\n",
       "      <td>50</td>\n",
       "      <td>42.50</td>\n",
       "    </tr>\n",
       "    <tr>\n",
       "      <th>201103</th>\n",
       "      <td>23</td>\n",
       "      <td>19.55</td>\n",
       "    </tr>\n",
       "    <tr>\n",
       "      <th>201104</th>\n",
       "      <td>189</td>\n",
       "      <td>160.65</td>\n",
       "    </tr>\n",
       "    <tr>\n",
       "      <th>...</th>\n",
       "      <th>...</th>\n",
       "      <td>...</td>\n",
       "      <td>...</td>\n",
       "    </tr>\n",
       "    <tr>\n",
       "      <th rowspan=\"5\" valign=\"top\">POST</th>\n",
       "      <th>201108</th>\n",
       "      <td>237</td>\n",
       "      <td>5185.95</td>\n",
       "    </tr>\n",
       "    <tr>\n",
       "      <th>201109</th>\n",
       "      <td>279</td>\n",
       "      <td>5894.50</td>\n",
       "    </tr>\n",
       "    <tr>\n",
       "      <th>201110</th>\n",
       "      <td>338</td>\n",
       "      <td>7993.50</td>\n",
       "    </tr>\n",
       "    <tr>\n",
       "      <th>201111</th>\n",
       "      <td>460</td>\n",
       "      <td>10349.95</td>\n",
       "    </tr>\n",
       "    <tr>\n",
       "      <th>201112</th>\n",
       "      <td>123</td>\n",
       "      <td>2760.00</td>\n",
       "    </tr>\n",
       "  </tbody>\n",
       "</table>\n",
       "<p>30407 rows × 2 columns</p>\n",
       "</div>"
      ],
      "text/plain": [
       "                  Quantity  CheckoutPrice\n",
       "StockCode                                \n",
       "10002     201012       224         190.40\n",
       "          201101       337         286.45\n",
       "          201102        50          42.50\n",
       "          201103        23          19.55\n",
       "          201104       189         160.65\n",
       "...                    ...            ...\n",
       "POST      201108       237        5185.95\n",
       "          201109       279        5894.50\n",
       "          201110       338        7993.50\n",
       "          201111       460       10349.95\n",
       "          201112       123        2760.00\n",
       "\n",
       "[30407 rows x 2 columns]"
      ]
     },
     "execution_count": 115,
     "metadata": {},
     "output_type": "execute_result"
    }
   ],
   "source": [
    "retail.set_index('InvoiceDate').groupby(['StockCode', extract_month]).sum()[['Quantity', 'CheckoutPrice']]\n",
    "# 일단 이 결과는 전체 상품에 대한 것이다.\n",
    "# 우리는 top3 상품에 대한것으로 해야 한다"
   ]
  },
  {
   "cell_type": "code",
   "execution_count": 117,
   "metadata": {},
   "outputs": [
    {
     "data": {
      "text/plain": [
       "StockCode\n",
       "23843     80995\n",
       "23166     77916\n",
       "84077     54415\n",
       "22197     49183\n",
       "85099B    46181\n",
       "85123A    36782\n",
       "84879     35362\n",
       "21212     33693\n",
       "23084     27202\n",
       "22492     26076\n",
       "Name: Quantity, dtype: int32"
      ]
     },
     "execution_count": 117,
     "metadata": {},
     "output_type": "execute_result"
    }
   ],
   "source": [
    "top_selling"
   ]
  },
  {
   "cell_type": "code",
   "execution_count": 118,
   "metadata": {},
   "outputs": [
    {
     "data": {
      "text/plain": [
       "StockCode\n",
       "23843    80995\n",
       "23166    77916\n",
       "84077    54415\n",
       "Name: Quantity, dtype: int32"
      ]
     },
     "execution_count": 118,
     "metadata": {},
     "output_type": "execute_result"
    }
   ],
   "source": [
    "top_selling[:3]  # top3"
   ]
  },
  {
   "cell_type": "code",
   "execution_count": 121,
   "metadata": {},
   "outputs": [
    {
     "data": {
      "text/plain": [
       "Index(['23843', '23166', '84077'], dtype='object', name='StockCode')"
      ]
     },
     "execution_count": 121,
     "metadata": {},
     "output_type": "execute_result"
    }
   ],
   "source": [
    "top_selling[:3].index  # top3 의 인덱스"
   ]
  },
  {
   "cell_type": "code",
   "execution_count": 123,
   "metadata": {},
   "outputs": [
    {
     "data": {
      "text/html": [
       "<div>\n",
       "<style scoped>\n",
       "    .dataframe tbody tr th:only-of-type {\n",
       "        vertical-align: middle;\n",
       "    }\n",
       "\n",
       "    .dataframe tbody tr th {\n",
       "        vertical-align: top;\n",
       "    }\n",
       "\n",
       "    .dataframe thead th {\n",
       "        text-align: right;\n",
       "    }\n",
       "</style>\n",
       "<table border=\"1\" class=\"dataframe\">\n",
       "  <thead>\n",
       "    <tr style=\"text-align: right;\">\n",
       "      <th></th>\n",
       "      <th></th>\n",
       "      <th>Quantity</th>\n",
       "      <th>CheckoutPrice</th>\n",
       "    </tr>\n",
       "    <tr>\n",
       "      <th>StockCode</th>\n",
       "      <th></th>\n",
       "      <th></th>\n",
       "      <th></th>\n",
       "    </tr>\n",
       "  </thead>\n",
       "  <tbody>\n",
       "    <tr>\n",
       "      <th>23843</th>\n",
       "      <th>201112</th>\n",
       "      <td>80995</td>\n",
       "      <td>168469.60</td>\n",
       "    </tr>\n",
       "    <tr>\n",
       "      <th rowspan=\"9\" valign=\"top\">23166</th>\n",
       "      <th>201101</th>\n",
       "      <td>74215</td>\n",
       "      <td>77183.60</td>\n",
       "    </tr>\n",
       "    <tr>\n",
       "      <th>201105</th>\n",
       "      <td>792</td>\n",
       "      <td>869.04</td>\n",
       "    </tr>\n",
       "    <tr>\n",
       "      <th>201106</th>\n",
       "      <td>391</td>\n",
       "      <td>458.51</td>\n",
       "    </tr>\n",
       "    <tr>\n",
       "      <th>201107</th>\n",
       "      <td>718</td>\n",
       "      <td>826.94</td>\n",
       "    </tr>\n",
       "    <tr>\n",
       "      <th>201108</th>\n",
       "      <td>405</td>\n",
       "      <td>486.09</td>\n",
       "    </tr>\n",
       "    <tr>\n",
       "      <th>201109</th>\n",
       "      <td>342</td>\n",
       "      <td>397.26</td>\n",
       "    </tr>\n",
       "    <tr>\n",
       "      <th>201110</th>\n",
       "      <td>235</td>\n",
       "      <td>283.67</td>\n",
       "    </tr>\n",
       "    <tr>\n",
       "      <th>201111</th>\n",
       "      <td>631</td>\n",
       "      <td>708.11</td>\n",
       "    </tr>\n",
       "    <tr>\n",
       "      <th>201112</th>\n",
       "      <td>187</td>\n",
       "      <td>203.51</td>\n",
       "    </tr>\n",
       "    <tr>\n",
       "      <th rowspan=\"13\" valign=\"top\">84077</th>\n",
       "      <th>201012</th>\n",
       "      <td>5139</td>\n",
       "      <td>1150.47</td>\n",
       "    </tr>\n",
       "    <tr>\n",
       "      <th>201101</th>\n",
       "      <td>1488</td>\n",
       "      <td>385.44</td>\n",
       "    </tr>\n",
       "    <tr>\n",
       "      <th>201102</th>\n",
       "      <td>3457</td>\n",
       "      <td>795.17</td>\n",
       "    </tr>\n",
       "    <tr>\n",
       "      <th>201103</th>\n",
       "      <td>3888</td>\n",
       "      <td>943.20</td>\n",
       "    </tr>\n",
       "    <tr>\n",
       "      <th>201104</th>\n",
       "      <td>10224</td>\n",
       "      <td>2281.44</td>\n",
       "    </tr>\n",
       "    <tr>\n",
       "      <th>201105</th>\n",
       "      <td>4944</td>\n",
       "      <td>1249.44</td>\n",
       "    </tr>\n",
       "    <tr>\n",
       "      <th>201106</th>\n",
       "      <td>1920</td>\n",
       "      <td>533.76</td>\n",
       "    </tr>\n",
       "    <tr>\n",
       "      <th>201107</th>\n",
       "      <td>3600</td>\n",
       "      <td>982.56</td>\n",
       "    </tr>\n",
       "    <tr>\n",
       "      <th>201108</th>\n",
       "      <td>2256</td>\n",
       "      <td>654.24</td>\n",
       "    </tr>\n",
       "    <tr>\n",
       "      <th>201109</th>\n",
       "      <td>3462</td>\n",
       "      <td>985.70</td>\n",
       "    </tr>\n",
       "    <tr>\n",
       "      <th>201110</th>\n",
       "      <td>8174</td>\n",
       "      <td>1953.98</td>\n",
       "    </tr>\n",
       "    <tr>\n",
       "      <th>201111</th>\n",
       "      <td>4500</td>\n",
       "      <td>1294.20</td>\n",
       "    </tr>\n",
       "    <tr>\n",
       "      <th>201112</th>\n",
       "      <td>1363</td>\n",
       "      <td>376.65</td>\n",
       "    </tr>\n",
       "  </tbody>\n",
       "</table>\n",
       "</div>"
      ],
      "text/plain": [
       "                  Quantity  CheckoutPrice\n",
       "StockCode                                \n",
       "23843     201112     80995      168469.60\n",
       "23166     201101     74215       77183.60\n",
       "          201105       792         869.04\n",
       "          201106       391         458.51\n",
       "          201107       718         826.94\n",
       "          201108       405         486.09\n",
       "          201109       342         397.26\n",
       "          201110       235         283.67\n",
       "          201111       631         708.11\n",
       "          201112       187         203.51\n",
       "84077     201012      5139        1150.47\n",
       "          201101      1488         385.44\n",
       "          201102      3457         795.17\n",
       "          201103      3888         943.20\n",
       "          201104     10224        2281.44\n",
       "          201105      4944        1249.44\n",
       "          201106      1920         533.76\n",
       "          201107      3600         982.56\n",
       "          201108      2256         654.24\n",
       "          201109      3462         985.70\n",
       "          201110      8174        1953.98\n",
       "          201111      4500        1294.20\n",
       "          201112      1363         376.65"
      ]
     },
     "execution_count": 123,
     "metadata": {},
     "output_type": "execute_result"
    }
   ],
   "source": [
    "monthly_top3 = retail.set_index('InvoiceDate').groupby(['StockCode', extract_month]).sum()[['Quantity', 'CheckoutPrice']].loc[top_selling[:3].index]\n",
    "monthly_top3"
   ]
  },
  {
   "cell_type": "code",
   "execution_count": null,
   "metadata": {},
   "outputs": [],
   "source": [
    "# 신기하게도 23843 상품은 201112  한달동안에만 판매된 량이다\n",
    "# 이 경우 이 상품은 언제 입정이 되었고, 얼마나 많은 사람들이 사 갔는지 파악하는 것도 중요하다.\n"
   ]
  },
  {
   "cell_type": "code",
   "execution_count": 122,
   "metadata": {},
   "outputs": [],
   "source": [
    "# 출력해보자"
   ]
  },
  {
   "cell_type": "code",
   "execution_count": 126,
   "metadata": {},
   "outputs": [
    {
     "data": {
      "image/png": "[encoded data removed]",
      "text/plain": [
       "<Figure size 1440x720 with 1 Axes>"
      ]
     },
     "metadata": {
      "needs_background": "light"
     },
     "output_type": "display_data"
    }
   ],
   "source": [
    "plot_bar(monthly_top3['CheckoutPrice'], 'Product/Month', 'Revenue', \"Revenue of top 3 items\")\n",
    "# 각 아이템별로 판매 추이 알수 있다."
   ]
  },
  {
   "cell_type": "code",
   "execution_count": 127,
   "metadata": {},
   "outputs": [],
   "source": [
    "# 한달 사이에서만 팔린 anomaly 현상을 볼수 있다.\n",
    "# 뭔가 월별 특성을 타는 아이템일수도? 혹은 특별한 이유가 있는지 분석해보는게 중요하다."
   ]
  },
  {
   "cell_type": "code",
   "execution_count": 128,
   "metadata": {},
   "outputs": [],
   "source": [
    "# 일단 이렇게 '현상파악' 을 해보았습니다.\n",
    "# 비즈니스팀에 전달해서 원인 파악등이 이루어져야 겠죠\n",
    "# 이후 필요한 실험을 더 해볼수 있어야 겠구요."
   ]
  },
  {
   "cell_type": "code",
   "execution_count": null,
   "metadata": {},
   "outputs": [],
   "source": [
    "# 실제 실무에서도 이와 같이 방식으로 분석하느게 많이 쓰입니다\n",
    "# 꼭 notebok 을 이용하는건 아니더라도\n",
    "# 비즈니스 팀에서 weekly , montly base 의 리포팅을 원합니다.\n",
    "# 그러면 이와가팅 분석해서 전달해주는게 중요한 정보가 됩니다.\n"
   ]
  },
  {
   "cell_type": "code",
   "execution_count": 129,
   "metadata": {},
   "outputs": [],
   "source": [
    "# 다음 시간에는 우수 고객을 선별해보는 분석을 해보겠습니다."
   ]
  },
  {
   "cell_type": "code",
   "execution_count": null,
   "metadata": {},
   "outputs": [],
   "source": []
  }
 ],
 "metadata": {
  "kernelspec": {
   "display_name": "Python 3",
   "language": "python",
   "name": "python3"
  },
  "language_info": {
   "codemirror_mode": {
    "name": "ipython",
    "version": 3
   },
   "file_extension": ".py",
   "mimetype": "text/x-python",
   "name": "python",
   "nbconvert_exporter": "python",
   "pygments_lexer": "ipython3",
   "version": "3.8.5"
  }
 },
 "nbformat": 4,
 "nbformat_minor": 2
}
