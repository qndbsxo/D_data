{
 "cells": [
  {
   "cell_type": "markdown",
   "metadata": {},
   "source": [
    "# Linear Regression\n",
    "선형회귀"
   ]
  },
  {
   "cell_type": "markdown",
   "metadata": {},
   "source": [
    "#### 08_23  시작"
   ]
  },
  {
   "cell_type": "code",
   "execution_count": 1,
   "metadata": {},
   "outputs": [],
   "source": [
    "import os\n",
    "import numpy as np\n",
    "import pandas as pd\n",
    "import matplotlib\n",
    "import matplotlib.pyplot as plt\n",
    "\n",
    "%matplotlib inline\n"
   ]
  },
  {
   "cell_type": "code",
   "execution_count": 2,
   "metadata": {},
   "outputs": [],
   "source": [
    "from matplotlib import font_manager, rc\n",
    "font_name = font_manager.FontProperties(fname=\"C:/Windows/Fonts/malgun.ttf\").get_name()\n",
    "rc('font', family=font_name)\n",
    "\n",
    "from IPython.display import Image"
   ]
  },
  {
   "cell_type": "markdown",
   "metadata": {},
   "source": [
    "### '추세' 구하기 \n",
    "데이터 추세,  예측"
   ]
  },
  {
   "cell_type": "code",
   "execution_count": null,
   "metadata": {},
   "outputs": [],
   "source": []
  },
  {
   "cell_type": "code",
   "execution_count": 8,
   "metadata": {},
   "outputs": [
    {
     "data": {
      "text/html": [
       "<div>\n",
       "<style scoped>\n",
       "    .dataframe tbody tr th:only-of-type {\n",
       "        vertical-align: middle;\n",
       "    }\n",
       "\n",
       "    .dataframe tbody tr th {\n",
       "        vertical-align: top;\n",
       "    }\n",
       "\n",
       "    .dataframe thead th {\n",
       "        text-align: right;\n",
       "    }\n",
       "</style>\n",
       "<table border=\"1\" class=\"dataframe\">\n",
       "  <thead>\n",
       "    <tr style=\"text-align: right;\">\n",
       "      <th></th>\n",
       "      <th>x</th>\n",
       "      <th>y</th>\n",
       "    </tr>\n",
       "  </thead>\n",
       "  <tbody>\n",
       "    <tr>\n",
       "      <th>0</th>\n",
       "      <td>1</td>\n",
       "      <td>10</td>\n",
       "    </tr>\n",
       "    <tr>\n",
       "      <th>1</th>\n",
       "      <td>2</td>\n",
       "      <td>20</td>\n",
       "    </tr>\n",
       "    <tr>\n",
       "      <th>2</th>\n",
       "      <td>3</td>\n",
       "      <td>30</td>\n",
       "    </tr>\n",
       "    <tr>\n",
       "      <th>3</th>\n",
       "      <td>4</td>\n",
       "      <td>40</td>\n",
       "    </tr>\n",
       "    <tr>\n",
       "      <th>4</th>\n",
       "      <td>5</td>\n",
       "      <td>50</td>\n",
       "    </tr>\n",
       "  </tbody>\n",
       "</table>\n",
       "</div>"
      ],
      "text/plain": [
       "   x   y\n",
       "0  1  10\n",
       "1  2  20\n",
       "2  3  30\n",
       "3  4  40\n",
       "4  5  50"
      ]
     },
     "execution_count": 8,
     "metadata": {},
     "output_type": "execute_result"
    }
   ],
   "source": [
    "# 가령 다음과 같은 경우\n",
    "df = pd.DataFrame([[1, 10], [2, 20], [3, 30], [4, 40], [5, 50]], columns=['x', 'y'])\n",
    "df\n",
    "\n",
    "# x 값이 6 인 경우 y 값은?   (y 예측값? 추세는?)\n",
    "# 아래와 같은 경우 직관적으로 쉽게 예측 가능\n",
    "# \"x 가 6 일때 y 값은 60\""
   ]
  },
  {
   "cell_type": "code",
   "execution_count": 11,
   "metadata": {},
   "outputs": [
    {
     "data": {
      "text/html": [
       "<div>\n",
       "<style scoped>\n",
       "    .dataframe tbody tr th:only-of-type {\n",
       "        vertical-align: middle;\n",
       "    }\n",
       "\n",
       "    .dataframe tbody tr th {\n",
       "        vertical-align: top;\n",
       "    }\n",
       "\n",
       "    .dataframe thead th {\n",
       "        text-align: right;\n",
       "    }\n",
       "</style>\n",
       "<table border=\"1\" class=\"dataframe\">\n",
       "  <thead>\n",
       "    <tr style=\"text-align: right;\">\n",
       "      <th></th>\n",
       "      <th>x</th>\n",
       "      <th>y</th>\n",
       "    </tr>\n",
       "  </thead>\n",
       "  <tbody>\n",
       "    <tr>\n",
       "      <th>0</th>\n",
       "      <td>1</td>\n",
       "      <td>6</td>\n",
       "    </tr>\n",
       "    <tr>\n",
       "      <th>1</th>\n",
       "      <td>2</td>\n",
       "      <td>18</td>\n",
       "    </tr>\n",
       "    <tr>\n",
       "      <th>2</th>\n",
       "      <td>3</td>\n",
       "      <td>33</td>\n",
       "    </tr>\n",
       "    <tr>\n",
       "      <th>3</th>\n",
       "      <td>4</td>\n",
       "      <td>42</td>\n",
       "    </tr>\n",
       "    <tr>\n",
       "      <th>4</th>\n",
       "      <td>5</td>\n",
       "      <td>100</td>\n",
       "    </tr>\n",
       "  </tbody>\n",
       "</table>\n",
       "</div>"
      ],
      "text/plain": [
       "   x    y\n",
       "0  1    6\n",
       "1  2   18\n",
       "2  3   33\n",
       "3  4   42\n",
       "4  5  100"
      ]
     },
     "execution_count": 11,
     "metadata": {},
     "output_type": "execute_result"
    }
   ],
   "source": [
    "# 그러나, 위와 같이 데이터가 오차가 있는 실제 상황의 경우는?\n",
    "df = pd.DataFrame([[1, 6], [2, 18], [3, 33], [4, 42], [5, 100]], columns=['x', 'y'])\n",
    "df\n",
    "\n"
   ]
  },
  {
   "cell_type": "code",
   "execution_count": 10,
   "metadata": {},
   "outputs": [],
   "source": [
    "# 이때도 다음과 같으 예측을 할려면???\n",
    "# \"x 가 6 일때 y 값은 60\"\n",
    "\n",
    "# 이러려면 '추세' 가 필요하다"
   ]
  },
  {
   "cell_type": "code",
   "execution_count": 35,
   "metadata": {},
   "outputs": [
    {
     "data": {
      "text/plain": [
       "<matplotlib.axes._subplots.AxesSubplot at 0x249b0b92e48>"
      ]
     },
     "execution_count": 35,
     "metadata": {},
     "output_type": "execute_result"
    },
    {
     "data": {
      "image/png": "[encoded data removed]",
      "text/plain": [
       "<matplotlib.figure.Figure at 0x249b0b8b780>"
      ]
     },
     "metadata": {},
     "output_type": "display_data"
    }
   ],
   "source": [
    "df.set_index('x').plot(style=\".\", markersize=20)\n",
    "\n",
    "# 아래 그래프를 점 사이를 관통하는 '추세선'을 그릴수 있나요?"
   ]
  },
  {
   "cell_type": "markdown",
   "metadata": {},
   "source": [
    "#### 08_23  00:01:39"
   ]
  },
  {
   "cell_type": "code",
   "execution_count": 36,
   "metadata": {},
   "outputs": [],
   "source": [
    "# Y = AX + B    \n",
    "\n",
    "# 가령.. Y = 3 * X     (일단 B =0 이라고 가정하고 해보자)\n",
    "\n",
    "data_X = [1, 2, 3, 4, 5]\n",
    "data_Y = [3, 6, 9, 12, 15]\n",
    "\n",
    "\n",
    "# 과연 위와 같은 데이터가 주어졌을때\n",
    "# 올바은 A 값은 무엇인가?   ★\n",
    "\n",
    "\n",
    "# ※ 물론 실제 데이터라면 X 하나가 아니라, X1, X2, X3 ... 와 같이 여러 X 값들이 있을수 있다."
   ]
  },
  {
   "cell_type": "markdown",
   "metadata": {},
   "source": [
    "#### 바람직한 추세란?  우리가 원하는 목적은? COST 란?"
   ]
  },
  {
   "cell_type": "code",
   "execution_count": 3,
   "metadata": {
    "collapsed": true
   },
   "outputs": [],
   "source": [
    "# 올바른 추세 == \"추세선과 점들과의 거리의 제곱의 합\" 이 최소가 되는 A   <-- 바로 이 A값을 찾는 것이 목적!\n",
    "#             ---------------------------\n",
    "#             = COST\n",
    "\n",
    "\n",
    "# 이때 \"추세선과 점들과의 거리의 제곱의 합\"   을  'COST' 라 한다. 즉 COSE 가 최소가 되는 A 값을 찾아야 한다\n",
    "\n",
    "# A = 1 일때  COST 값 계산\n",
    "# A = 2 일때  COST 값 계산\n",
    "# A = 3 일때  COST 값 계산\n",
    "#...\n",
    "# 이와 같이 계산해 가면서\n",
    "# COST 가 최소인 A 값을 찾게 된다\n"
   ]
  },
  {
   "cell_type": "markdown",
   "metadata": {
    "collapsed": true
   },
   "source": [
    "#### 일단 COST 를 계산하는 함수를 만들어 보자"
   ]
  },
  {
   "cell_type": "code",
   "execution_count": 37,
   "metadata": {},
   "outputs": [],
   "source": [
    "def calculate_cost(data_X, data_Y, A):\n",
    "    # COST => 점들과의 거리의 제곱의 합\n",
    "    cost = 0\n",
    "    \n",
    "    for index in range(len(data_X)):\n",
    "        x = data_X[index]\n",
    "        y = data_Y[index]   # <-- y 는 실제 데이터\n",
    "                            #  ↓-- x * A 는 예측값\n",
    "        cost = cost + (y - x * A) ** 2     # \n",
    "        #              ----------------\n",
    "        #              ↑ (실제데이터 - 예측값) 의 제곱을 COST 에 누적\n",
    "    \n",
    "    return cost"
   ]
  },
  {
   "cell_type": "code",
   "execution_count": 40,
   "metadata": {},
   "outputs": [
    {
     "data": {
      "text/plain": [
       "0"
      ]
     },
     "execution_count": 40,
     "metadata": {},
     "output_type": "execute_result"
    }
   ],
   "source": [
    "# 만약 A 값에 3을 넣으면 정확하게 0 이 나와야 정상.  즉 COST 최소값!  (100% 정확히 예측 일치)\n",
    "\n",
    "calculate_cost(data_X, data_Y, 3)"
   ]
  },
  {
   "cell_type": "code",
   "execution_count": 42,
   "metadata": {},
   "outputs": [
    {
     "data": {
      "text/plain": [
       "220"
      ]
     },
     "execution_count": 42,
     "metadata": {},
     "output_type": "execute_result"
    }
   ],
   "source": [
    "# A 값을 변화 시켜가며 COST 결과값(오차율)들을 확인해보자\n",
    "\n",
    "calculate_cost(data_X, data_Y, 1),  # 220\n",
    "calculate_cost(data_X, data_Y, 2),  # 55\n",
    "calculate_cost(data_X, data_Y, 3),  # 0\n",
    "calculate_cost(data_X, data_Y, 4),  # 55\n",
    "calculate_cost(data_X, data_Y, 5)  # 220"
   ]
  },
  {
   "cell_type": "markdown",
   "metadata": {},
   "source": [
    "#### 위 A값에 따른 COST 데이터를 그래프로 그려보자"
   ]
  },
  {
   "cell_type": "code",
   "execution_count": 43,
   "metadata": {},
   "outputs": [],
   "source": [
    "x = np.arange(0, 10, 0.01)\n",
    "y = [calculate_cost(data_X, data_Y, i) for i in x]"
   ]
  },
  {
   "cell_type": "code",
   "execution_count": 45,
   "metadata": {},
   "outputs": [
    {
     "data": {
      "text/plain": [
       "[<matplotlib.lines.Line2D at 0x249b0ff0470>]"
      ]
     },
     "execution_count": 45,
     "metadata": {},
     "output_type": "execute_result"
    },
    {
     "data": {
      "image/png": "[encoded data removed]",
      "text/plain": [
       "<matplotlib.figure.Figure at 0x249b0db74a8>"
      ]
     },
     "metadata": {},
     "output_type": "display_data"
    }
   ],
   "source": [
    "plt.plot(x, y)"
   ]
  },
  {
   "cell_type": "code",
   "execution_count": 47,
   "metadata": {},
   "outputs": [],
   "source": [
    "# 위 그래프를 보면  금방  x축 3 지점이 최소값이 됨을 알수는 있다.\n",
    "# 그러나, 지금의 경우 x 값이 하나이기때문에 A 값이 하나라 금방 알수 있는 거고\n",
    "\n",
    "# x 값이 여러개 x1, x2, x3 ... 인 경우는?\n",
    "# 가령   Y = A1xX1 + A2xX2 + A3xX3 .... + B   <--- 여기서는 A1, A2, A3  심지어 B 까지.. 알아내야 하니 복잡하다."
   ]
  },
  {
   "cell_type": "markdown",
   "metadata": {},
   "source": [
    "### Linear Regression "
   ]
  },
  {
   "cell_type": "code",
   "execution_count": 49,
   "metadata": {},
   "outputs": [
    {
     "data": {
      "image/gif": "[encoded data removed]",
      "text/plain": [
       "<IPython.core.display.Image object>"
      ]
     },
     "execution_count": 49,
     "metadata": {},
     "output_type": "execute_result"
    }
   ],
   "source": [
    "# 실제로 최소값을 어케 찾나?\n",
    "# 모든 점에 대해서 다 조사해야 하나?  <-- 불가능!\n",
    "\n",
    "# 그래서, '모든 점' 들을 다 찍어 보는게 아니라, 특정 점으로 부터 시작하여 계산해 나감  --> 이것이 Linear Refression\n",
    "\n",
    "# 위 그래프에서 '기울기' 값으로 \n",
    "# 가령 x = 9 위치부터 시작한다면 기울기가 0으로 수렴하는 방향으로 조금씩 값을 이동시키면서  (좌<-우)\n",
    "# 기울기 값이 최소값이 되는 지점을 찾아감\n",
    "\n",
    "# 기울기 값이 선형으로 점진적인 값의 변화... --> Linear Regression\n",
    "\n",
    "# 마찬가지로  x 값이 3 보다 작은 쪽에서 시작했어도, 기울기 값이 0으로 수렴하는 방향으로 조금씩 이동  (좌->우)\n",
    "# \n",
    "\n",
    "# 이러한 일을 수행하는 알고리즘들 많다\n",
    "# 참고로 이 경우는 Gradient Decent 알고리즘이다.\n",
    "\n",
    "# x 값이 여러개 이어도 이 알고리즘들이 적용된다. ★ \n",
    "\n",
    "# 3차원 일 경우는 마치 밥그릇 같은 모양이 만들어질거다\n",
    "\n",
    "Image('./images/linear_regression1.gif')  # 예"
   ]
  },
  {
   "cell_type": "code",
   "execution_count": 50,
   "metadata": {},
   "outputs": [],
   "source": [
    "# 이러한 것들을 다루는(머신러닝, 통계모델)모듈들 굉장히 많다\n",
    "\n",
    "# scipy  statsmodel  scikit-learn tensorflow "
   ]
  },
  {
   "cell_type": "code",
   "execution_count": null,
   "metadata": {},
   "outputs": [],
   "source": []
  },
  {
   "cell_type": "markdown",
   "metadata": {},
   "source": [
    "#### 08_23  14:53"
   ]
  },
  {
   "cell_type": "code",
   "execution_count": 5,
   "metadata": {},
   "outputs": [],
   "source": [
    "from scipy import stats"
   ]
  },
  {
   "cell_type": "code",
   "execution_count": 52,
   "metadata": {},
   "outputs": [
    {
     "data": {
      "text/plain": [
       "([1, 2, 3, 4, 5], [3, 6, 9, 12, 15])"
      ]
     },
     "execution_count": 52,
     "metadata": {},
     "output_type": "execute_result"
    }
   ],
   "source": [
    "data_X, data_Y         # Y = 3X"
   ]
  },
  {
   "cell_type": "code",
   "execution_count": 53,
   "metadata": {},
   "outputs": [
    {
     "data": {
      "text/plain": [
       "LinregressResult(slope=3.0, intercept=0.0, rvalue=1.0, pvalue=1.2004217548761408e-30, stderr=0.0)"
      ]
     },
     "execution_count": 53,
     "metadata": {},
     "output_type": "execute_result"
    }
   ],
   "source": [
    "stats.linregress(data_X, data_Y)\n",
    "\n",
    "# 기울기 slope=3.0,  절편 intercept=0.0\n",
    "\n",
    "# 즉 '모든 점' 들을 다 찍어 보는게 아니라, 특정 점으로 부터 시작하여 계산해 나감"
   ]
  },
  {
   "cell_type": "code",
   "execution_count": 54,
   "metadata": {},
   "outputs": [
    {
     "data": {
      "text/plain": [
       "LinregressResult(slope=3.0, intercept=2.0, rvalue=1.0, pvalue=1.2004217548761408e-30, stderr=0.0)"
      ]
     },
     "execution_count": 54,
     "metadata": {},
     "output_type": "execute_result"
    }
   ],
   "source": [
    "stats.linregress(data_X, [y + 2 for y in data_Y])"
   ]
  },
  {
   "cell_type": "code",
   "execution_count": 3,
   "metadata": {},
   "outputs": [],
   "source": [
    "# 데이터에 오차를 줘보겠습니다\n",
    "\n",
    "data_X = [1, 2, 3, 4, 5]\n",
    "data_Y = [9, 22, 35, 38, 50]  # y = 10x    <--- 기울기 10 !\n",
    "\n",
    "# 과연 추세는 어케 나올까?  Linear regreasion 의 결과는"
   ]
  },
  {
   "cell_type": "code",
   "execution_count": 6,
   "metadata": {},
   "outputs": [],
   "source": [
    "s, i, r, p, e = stats.linregress(data_X, data_Y)\n",
    "\n",
    "# 점, 추세선"
   ]
  },
  {
   "cell_type": "code",
   "execution_count": 59,
   "metadata": {},
   "outputs": [
    {
     "data": {
      "text/plain": [
       "(9.8,\n",
       " 1.3999999999999986,\n",
       " 0.9845393456089396,\n",
       " 0.0023023212738423997,\n",
       " 1.0066445913694342)"
      ]
     },
     "execution_count": 59,
     "metadata": {},
     "output_type": "execute_result"
    }
   ],
   "source": [
    "s, i, r, p, e\n",
    "\n",
    "# s 값(기울기)이 거의 10 에 가깞게 나옴"
   ]
  },
  {
   "cell_type": "code",
   "execution_count": 61,
   "metadata": {},
   "outputs": [
    {
     "data": {
      "text/plain": [
       "60.2"
      ]
     },
     "execution_count": 61,
     "metadata": {},
     "output_type": "execute_result"
    }
   ],
   "source": [
    "# 그러면 \n",
    "# X = 6 인 경우는? \n",
    "6 * s + i      # <-- 예측값이 나온다!"
   ]
  },
  {
   "cell_type": "code",
   "execution_count": null,
   "metadata": {
    "collapsed": true
   },
   "outputs": [],
   "source": []
  },
  {
   "cell_type": "markdown",
   "metadata": {},
   "source": [
    "### TODO: 그래프 그리기\n",
    "점들과 추세선 그려보기"
   ]
  },
  {
   "cell_type": "code",
   "execution_count": 65,
   "metadata": {},
   "outputs": [
    {
     "data": {
      "text/plain": [
       "[<matplotlib.lines.Line2D at 0x249b2d2bb00>,\n",
       " <matplotlib.lines.Line2D at 0x249b2d2bc18>]"
      ]
     },
     "execution_count": 65,
     "metadata": {},
     "output_type": "execute_result"
    },
    {
     "data": {
      "image/png": "[encoded data removed]",
      "text/plain": [
       "<matplotlib.figure.Figure at 0x249b2ca0160>"
      ]
     },
     "metadata": {},
     "output_type": "display_data"
    }
   ],
   "source": [
    "# 예    "
   ]
  },
  {
   "cell_type": "code",
   "execution_count": 11,
   "metadata": {},
   "outputs": [
    {
     "data": {
      "text/plain": [
       "[<matplotlib.lines.Line2D at 0x25ac9ce7048>]"
      ]
     },
     "execution_count": 11,
     "metadata": {},
     "output_type": "execute_result"
    },
    {
     "data": {
      "image/png": "[encoded data removed]",
      "text/plain": [
       "<matplotlib.figure.Figure at 0x25ac8c89da0>"
      ]
     },
     "metadata": {},
     "output_type": "display_data"
    }
   ],
   "source": [
    "# 검정색 동그라미 점으로 점찍기\n",
    "\n",
    "plt.plot(\n",
    "    data_X, data_Y, \"ro\"\n",
    ")"
   ]
  },
  {
   "cell_type": "code",
   "execution_count": 12,
   "metadata": {},
   "outputs": [
    {
     "data": {
      "text/plain": [
       "[<matplotlib.lines.Line2D at 0x25ac9d44ac8>]"
      ]
     },
     "execution_count": 12,
     "metadata": {},
     "output_type": "execute_result"
    },
    {
     "data": {
      "image/png": "[encoded data removed]",
      "text/plain": [
       "<matplotlib.figure.Figure at 0x25ac9cc11d0>"
      ]
     },
     "metadata": {},
     "output_type": "display_data"
    }
   ],
   "source": [
    "x = np.arange(-5, 10, 0.01)\n",
    "y = x * s + i\n",
    "\n",
    "plt.plot(x, y, \"r--\")"
   ]
  },
  {
   "cell_type": "code",
   "execution_count": 64,
   "metadata": {},
   "outputs": [
    {
     "data": {
      "text/plain": [
       "[<matplotlib.lines.Line2D at 0x249b2cc7198>,\n",
       " <matplotlib.lines.Line2D at 0x249b2cc72b0>]"
      ]
     },
     "execution_count": 64,
     "metadata": {},
     "output_type": "execute_result"
    },
    {
     "data": {
      "image/png": "[encoded data removed]",
      "text/plain": [
       "<matplotlib.figure.Figure at 0x249b2c44128>"
      ]
     },
     "metadata": {},
     "output_type": "display_data"
    }
   ],
   "source": [
    "x = np.arange(-5, 10, 0.01)\n",
    "y = x * s + i\n",
    "\n",
    "plt.plot(\n",
    "    data_X, data_Y, \"ko\",\n",
    "    x, y, \"r--\"\n",
    ")"
   ]
  },
  {
   "cell_type": "code",
   "execution_count": null,
   "metadata": {
    "collapsed": true
   },
   "outputs": [],
   "source": []
  },
  {
   "cell_type": "code",
   "execution_count": 66,
   "metadata": {},
   "outputs": [],
   "source": [
    "# 내부적으로 이해하는 것도 중요하지만\n",
    "# 기존의 라이브러리 사용해서  직접 해보는 것 (프로그래밍적으로) 도 좋습니다"
   ]
  },
  {
   "cell_type": "markdown",
   "metadata": {},
   "source": [
    "## 추천사이트\n",
    "- https://scikit-learn.org"
   ]
  },
  {
   "cell_type": "code",
   "execution_count": 68,
   "metadata": {},
   "outputs": [],
   "source": [
    "# 다양한 문제들에대한 예제 풍부 : Classification, Regression, Clustering...\n",
    "\n",
    "# 예제 코드가 짧고 다양\n",
    "\n",
    "# 주식, 유저 구매 내역 데이터 등... 다룸"
   ]
  },
  {
   "cell_type": "markdown",
   "metadata": {},
   "source": [
    "#### 08_23  00:24:39"
   ]
  },
  {
   "cell_type": "code",
   "execution_count": null,
   "metadata": {},
   "outputs": [],
   "source": []
  },
  {
   "cell_type": "code",
   "execution_count": null,
   "metadata": {},
   "outputs": [],
   "source": []
  },
  {
   "cell_type": "code",
   "execution_count": null,
   "metadata": {},
   "outputs": [],
   "source": []
  },
  {
   "cell_type": "code",
   "execution_count": null,
   "metadata": {},
   "outputs": [],
   "source": []
  },
  {
   "cell_type": "code",
   "execution_count": null,
   "metadata": {},
   "outputs": [],
   "source": []
  },
  {
   "cell_type": "code",
   "execution_count": null,
   "metadata": {},
   "outputs": [],
   "source": []
  },
  {
   "cell_type": "code",
   "execution_count": null,
   "metadata": {},
   "outputs": [],
   "source": []
  },
  {
   "cell_type": "code",
   "execution_count": null,
   "metadata": {},
   "outputs": [],
   "source": []
  },
  {
   "cell_type": "code",
   "execution_count": null,
   "metadata": {},
   "outputs": [],
   "source": []
  },
  {
   "cell_type": "code",
   "execution_count": null,
   "metadata": {},
   "outputs": [],
   "source": []
  },
  {
   "cell_type": "code",
   "execution_count": null,
   "metadata": {},
   "outputs": [],
   "source": []
  },
  {
   "cell_type": "code",
   "execution_count": null,
   "metadata": {},
   "outputs": [],
   "source": []
  },
  {
   "cell_type": "code",
   "execution_count": null,
   "metadata": {},
   "outputs": [],
   "source": []
  },
  {
   "cell_type": "code",
   "execution_count": null,
   "metadata": {},
   "outputs": [],
   "source": []
  }
 ],
 "metadata": {
  "kernelspec": {
   "display_name": "Python 3",
   "language": "python",
   "name": "python3"
  },
  "language_info": {
   "codemirror_mode": {
    "name": "ipython",
    "version": 3
   },
   "file_extension": ".py",
   "mimetype": "text/x-python",
   "name": "python",
   "nbconvert_exporter": "python",
   "pygments_lexer": "ipython3",
   "version": "3.8.5"
  }
 },
 "nbformat": 4,
 "nbformat_minor": 2
}
