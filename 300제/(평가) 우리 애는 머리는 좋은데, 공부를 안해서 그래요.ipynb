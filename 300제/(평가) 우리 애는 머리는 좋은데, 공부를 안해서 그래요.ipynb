{
 "cells": [
  {
   "cell_type": "markdown",
   "metadata": {
    "id": "NqqLNJZjfi8U"
   },
   "source": [
    "# 우리 애는 머리는 좋은데, 공부를 안해서 그래요 \n",
    "- 데이터로 살펴보는 우리 아이 학습 성공/실패 요소\n",
    "----------\n",
    "\n",
    "## 실습 가이드\n",
    "    1. 데이터를 다운로드하여 불러옵니다.\n",
    "    2. 필요한 라이브러리는 모두 코드로 작성되어 있습니다.\n",
    "    3. 코드는 위에서부터 아래로 순서대로 실행합니다.\n",
    "    \n",
    "    \n",
    "## 데이터 소개\n",
    "- 이번 주제는 xAPI-Edu-Data 데이터셋을 사용합니다.\n",
    "    \n",
    "- 다음 1개의 csv 파일을 사용합니다.\n",
    "    - xAPI-Edu-Data.csv\n",
    "    \n",
    "- 각 파일의 컬럼은 아래와 같습니다.\n",
    "    1. gender: 학생의 성별 (M: 남성, F: 여성)\n",
    "    1. NationaliTy: 학생의 국적\n",
    "    1. PlaceofBirth: 학생이 태어난 국가\n",
    "    1. StageID: 학생이 다니는 학교 (초,중,고)\n",
    "    1. GradeID: 학생이 속한 성적 등급\n",
    "    1. SectionID: 학생이 속한 반 이름\n",
    "    1. Topic: 수강한 과목\n",
    "    1. Semester: 수강한 학기 (1학기/2학기)\n",
    "    1. Relation: 주 보호자와 학생의 관계\n",
    "    1. raisedhands: 학생이 수업 중 손을 든 횟수\n",
    "    1. VisITedResources: 학생이 과목 컨텐츠를 활용한 횟수\n",
    "    1. AnnouncementsView : 학생이 과목 공지를 확인한 횟수\n",
    "    1. Discussion: 학생이 토론 그룹에 참여한 횟수\n",
    "    1. ParentAnsweringSurvey: 부모가 학교 설문에 참여했는지 여부\n",
    "    1. ParentschoolSatisfaction: 부모가 학교에 만족했는지 여부\n",
    "    1. StudentAbscenceDays: 학생의 결석 횟수 (7회 이상/미만)\n",
    "    1. Class: 학생의 성적 등급 (L: 낮음, M: 보통, H: 높음)\n",
    "        \n",
    "    \n",
    "    \n",
    "- 데이터 출처: https://www.kaggle.com/aljarah/xAPI-Edu-Data\n",
    "\n",
    "## 최종 목표\n",
    "    - 데이터 탐색과 분석, 시각화를 통한 인사이트 습득\n",
    "\n",
    "---"
   ]
  },
  {
   "cell_type": "markdown",
   "metadata": {
    "id": "IRssoNrgP7So"
   },
   "source": [
    "## Step 1. 데이터셋 준비하기"
   ]
  },
  {
   "cell_type": "code",
   "execution_count": 1,
   "metadata": {
    "id": "g49RuFGrBvt7"
   },
   "outputs": [],
   "source": [
    "import pandas as pd\n",
    "import numpy as np\n",
    "import matplotlib.pyplot as plt\n",
    "import seaborn as sns"
   ]
  },
  {
   "cell_type": "markdown",
   "metadata": {
    "id": "aJ34SovLtFI8"
   },
   "source": [
    "### 문제 1. Pandas 라이브러리로 csv파일 읽어들이기\n"
   ]
  },
  {
   "cell_type": "code",
   "execution_count": 24,
   "metadata": {},
   "outputs": [],
   "source": [
    "# notebook 파일과 동일 경로에 csv 파일 가져오기\n",
    "# TODO"
   ]
  },
  {
   "cell_type": "code",
   "execution_count": null,
   "metadata": {},
   "outputs": [],
   "source": []
  },
  {
   "cell_type": "markdown",
   "metadata": {
    "id": "9L3BNVM7tHN5"
   },
   "source": [
    "## Step 2. EDA 및 데이터 기초 통계 분석\n"
   ]
  },
  {
   "cell_type": "markdown",
   "metadata": {
    "id": "HyFm33tNtVn7"
   },
   "source": [
    "### 문제 2. 데이터프레임의 각 컬럼 분석하기\n"
   ]
  },
  {
   "cell_type": "code",
   "execution_count": 1,
   "metadata": {
    "id": "YcR9BX23DIFW"
   },
   "outputs": [],
   "source": [
    "# DataFrame에서 제공하는 메소드를 이용하여 컬럼 분석하기\n",
    "# - 코드 작성\n",
    "# - 실행 결과에 따른 컬럼 분석\n",
    "# - 수치형 데이터에 대한 범위 확인\n",
    "# - 분류형 데이터의 범주 확인\n",
    "# - 위 각 분석및 확인은 별도의 셀에 주석으로 작성하기"
   ]
  },
  {
   "cell_type": "code",
   "execution_count": null,
   "metadata": {},
   "outputs": [],
   "source": [
    "# TODO"
   ]
  },
  {
   "cell_type": "code",
   "execution_count": null,
   "metadata": {},
   "outputs": [],
   "source": []
  },
  {
   "cell_type": "markdown",
   "metadata": {
    "id": "HGHvPwkNtXgj"
   },
   "source": [
    "### 문제 3. 수치형 데이터의 시각화및 분석"
   ]
  },
  {
   "cell_type": "markdown",
   "metadata": {},
   "source": [
    "#### 3-1 : '학생이 수업 중 손을 든 횟수(raisedhands)' 와  '학생의 성적 등급(Class) 간의 관계'에 대한 분석"
   ]
  },
  {
   "cell_type": "code",
   "execution_count": 11,
   "metadata": {
    "id": "GZXSBFPyDh6R"
   },
   "outputs": [],
   "source": [
    "# - 시각화 코드 작성 \n",
    "# - 시각화 결과 관찰 /연관성 분석 및 인사이트 -> 별도의 셀에 주석으로 작성하기"
   ]
  },
  {
   "cell_type": "code",
   "execution_count": 3,
   "metadata": {},
   "outputs": [],
   "source": [
    "# TODO"
   ]
  },
  {
   "cell_type": "code",
   "execution_count": null,
   "metadata": {},
   "outputs": [],
   "source": []
  },
  {
   "cell_type": "markdown",
   "metadata": {},
   "source": [
    "#### 3-2 : '학생이 과목 컨텐츠를 활용한 횟수(VisITedResources)' 와  '학생의 성적 등급(Class) 간의 관계'에 대한 분석"
   ]
  },
  {
   "cell_type": "code",
   "execution_count": 5,
   "metadata": {},
   "outputs": [],
   "source": [
    "# - 시각화 코드 작성 \n",
    "# - 시각화 결과 관찰 /연관성 분석 및 인사이트 -> 별도의 셀에 주석으로 작성하기"
   ]
  },
  {
   "cell_type": "code",
   "execution_count": 4,
   "metadata": {},
   "outputs": [],
   "source": [
    "# TODO"
   ]
  },
  {
   "cell_type": "code",
   "execution_count": null,
   "metadata": {},
   "outputs": [],
   "source": []
  },
  {
   "cell_type": "markdown",
   "metadata": {},
   "source": [
    "#### 3-3 : '학생이 과목 공지를 확인한 횟수(AnnouncementsView)' 와  '학생의 성적 등급(Class) 간의 관계'에 대한 분석"
   ]
  },
  {
   "cell_type": "code",
   "execution_count": 12,
   "metadata": {},
   "outputs": [],
   "source": [
    "# - 시각화 코드 작성 \n",
    "# - 시각화 결과 관찰 /연관성 분석 및 인사이트 -> 별도의 셀에 주석으로 작성하기"
   ]
  },
  {
   "cell_type": "code",
   "execution_count": null,
   "metadata": {},
   "outputs": [],
   "source": [
    "# TODO"
   ]
  },
  {
   "cell_type": "code",
   "execution_count": null,
   "metadata": {},
   "outputs": [],
   "source": []
  },
  {
   "cell_type": "markdown",
   "metadata": {},
   "source": [
    "#### 3-4 : '학생의 토론 그룹에 참여한 횟수(Discussion)' 와  '학생의 성적 등급(Class) 간의 관계'에 대한 분석"
   ]
  },
  {
   "cell_type": "code",
   "execution_count": 13,
   "metadata": {},
   "outputs": [],
   "source": [
    "# - 시각화 코드 작성 \n",
    "# - 시각화 결과 관찰 /연관성 분석 및 인사이트 -> 별도의 셀에 주석으로 작성하기"
   ]
  },
  {
   "cell_type": "code",
   "execution_count": null,
   "metadata": {},
   "outputs": [],
   "source": [
    "# TODO"
   ]
  },
  {
   "cell_type": "code",
   "execution_count": null,
   "metadata": {},
   "outputs": [],
   "source": []
  },
  {
   "cell_type": "markdown",
   "metadata": {},
   "source": [
    "#### 3-5 : '학생이 과목 컨텐츠를 활용한 횟수(VisITedResources)' x '수업 중 손을 든 횟수(raisedhands)' 를 '학생의 성적 등급(Class)' 별로 분류하여 보여줄수 있는 시각화 및 분석"
   ]
  },
  {
   "cell_type": "code",
   "execution_count": 14,
   "metadata": {},
   "outputs": [],
   "source": [
    "# - 시각화 코드 작성 \n",
    "# - 시각화 결과 관찰 /연관성 분석 및 인사이트 -> 별도의 셀에 주석으로 작성하기"
   ]
  },
  {
   "cell_type": "code",
   "execution_count": 15,
   "metadata": {},
   "outputs": [],
   "source": [
    "# TODO"
   ]
  },
  {
   "cell_type": "code",
   "execution_count": null,
   "metadata": {},
   "outputs": [],
   "source": []
  },
  {
   "cell_type": "markdown",
   "metadata": {
    "id": "KywGh9sjtYl9"
   },
   "source": [
    "### 문제 4. 범주별 데이터의 시각화및 분석\n"
   ]
  },
  {
   "cell_type": "markdown",
   "metadata": {},
   "source": [
    "#### 4-1 '성(gender)' 별 '성적(Class)' 분포를 시각화 하고 분석"
   ]
  },
  {
   "cell_type": "code",
   "execution_count": 16,
   "metadata": {
    "id": "TqXkwW8JDxhH"
   },
   "outputs": [],
   "source": [
    "# - 시각화 코드 작성 \n",
    "# - 시각화 결과 관찰 /연관성 분석 및 인사이트 -> 별도의 셀에 주석으로 작성하기"
   ]
  },
  {
   "cell_type": "code",
   "execution_count": 17,
   "metadata": {},
   "outputs": [],
   "source": [
    "# TODO"
   ]
  },
  {
   "cell_type": "code",
   "execution_count": null,
   "metadata": {},
   "outputs": [],
   "source": []
  },
  {
   "cell_type": "markdown",
   "metadata": {},
   "source": [
    "#### 4-2 '국적(NationalITy)' 별 '성적(Class)' 분포를 시각화 하고 분석"
   ]
  },
  {
   "cell_type": "code",
   "execution_count": 16,
   "metadata": {
    "id": "TqXkwW8JDxhH"
   },
   "outputs": [],
   "source": [
    "# - 시각화 코드 작성 \n",
    "# - 시각화 결과 관찰 /연관성 분석 및 인사이트 -> 별도의 셀에 주석으로 작성하기"
   ]
  },
  {
   "cell_type": "code",
   "execution_count": 17,
   "metadata": {},
   "outputs": [],
   "source": [
    "# TODO"
   ]
  },
  {
   "cell_type": "code",
   "execution_count": null,
   "metadata": {},
   "outputs": [],
   "source": []
  },
  {
   "cell_type": "markdown",
   "metadata": {},
   "source": [
    "#### 4-3 '부모가 응답한 것과 (ParentAnsweringSurvey)'  와 '성적(Class)' 분포를 시각화 하고 분석"
   ]
  },
  {
   "cell_type": "code",
   "execution_count": 18,
   "metadata": {
    "id": "TqXkwW8JDxhH"
   },
   "outputs": [],
   "source": [
    "# - 시각화 코드 작성 \n",
    "# - 시각화 결과 관찰 /연관성 분석 및 인사이트 -> 별도의 셀에 주석으로 작성하기"
   ]
  },
  {
   "cell_type": "code",
   "execution_count": 19,
   "metadata": {},
   "outputs": [],
   "source": [
    "# TODO"
   ]
  },
  {
   "cell_type": "code",
   "execution_count": null,
   "metadata": {},
   "outputs": [],
   "source": []
  },
  {
   "cell_type": "markdown",
   "metadata": {},
   "source": [
    "#### 4-4 '학습주제 (topic)' 과 '성적(Class)'  분포를 시각화 하고 분석"
   ]
  },
  {
   "cell_type": "code",
   "execution_count": 18,
   "metadata": {
    "id": "TqXkwW8JDxhH"
   },
   "outputs": [],
   "source": [
    "# - 시각화 코드 작성 \n",
    "# - 시각화 결과 관찰 /연관성 분석 및 인사이트 -> 별도의 셀에 주석으로 작성하기"
   ]
  },
  {
   "cell_type": "code",
   "execution_count": null,
   "metadata": {},
   "outputs": [],
   "source": []
  },
  {
   "cell_type": "code",
   "execution_count": null,
   "metadata": {},
   "outputs": [],
   "source": []
  },
  {
   "cell_type": "markdown",
   "metadata": {
    "id": "Bm7HnPahCSqu"
   },
   "source": [
    "### 문제 5. 범주형 대상 Class 컬럼을 수치로 바꾸어 표현하기"
   ]
  },
  {
   "cell_type": "markdown",
   "metadata": {},
   "source": [
    "#### 5-1 "
   ]
  },
  {
   "cell_type": "code",
   "execution_count": 20,
   "metadata": {
    "id": "cIcFXrCECa9F"
   },
   "outputs": [],
   "source": [
    "# Class_value 란 컬럼을 새로이 추가하여\n",
    "# Class 의 L, M, H를 숫자로 바꾸어 표현하기 (eg. L: -1, M: 0, H:1)\n",
    "\n",
    "\n"
   ]
  },
  {
   "cell_type": "code",
   "execution_count": 21,
   "metadata": {},
   "outputs": [],
   "source": [
    "# TODO"
   ]
  },
  {
   "cell_type": "code",
   "execution_count": null,
   "metadata": {},
   "outputs": [],
   "source": []
  },
  {
   "cell_type": "markdown",
   "metadata": {},
   "source": [
    "#### 5-2"
   ]
  },
  {
   "cell_type": "code",
   "execution_count": 22,
   "metadata": {
    "id": "8wWWtJeeD1TP"
   },
   "outputs": [],
   "source": [
    "# 숫자로 바꾼 Class_value 컬럼을 이용하여\n",
    "# 학습주제(topic) 별 Class_value 의 평균값을 구한뒤 \n",
    "# 내림차순으로 정렬된 결과를 시각화하기"
   ]
  },
  {
   "cell_type": "code",
   "execution_count": 23,
   "metadata": {},
   "outputs": [],
   "source": [
    "# TODO"
   ]
  },
  {
   "cell_type": "code",
   "execution_count": null,
   "metadata": {},
   "outputs": [],
   "source": []
  }
 ],
 "metadata": {
  "colab": {
   "collapsed_sections": [],
   "name": "1-2. 우리 애는 머리는 좋은데, 공부를 안해서 그래요 - 데이터로 살펴보는 우리 아이 학습 성공/실패 요소",
   "provenance": [
    {
     "file_id": "1j79f83Q3TPyjwsbNx2fy_Dt-J37MVNvZ",
     "timestamp": 1605597047726
    },
    {
     "file_id": "1QiLPv5TzBrE7Lb-X4fMq7KHePTq0Em2L",
     "timestamp": 1605593695308
    },
    {
     "file_id": "1Ot6dlC7E_dqo8XOgyTA03SKSqFcvkCdO",
     "timestamp": 1605087778098
    },
    {
     "file_id": "1cS2OjWOehEb97E7763rQ_LrzQIK34Kd-",
     "timestamp": 1604921871166
    },
    {
     "file_id": "1g7SaVjG6EvBPvIH4ADG2RA3qN8v521d1",
     "timestamp": 1604886286018
    }
   ]
  },
  "kernelspec": {
   "display_name": "Python 3",
   "language": "python",
   "name": "python3"
  },
  "language_info": {
   "codemirror_mode": {
    "name": "ipython",
    "version": 3
   },
   "file_extension": ".py",
   "mimetype": "text/x-python",
   "name": "python",
   "nbconvert_exporter": "python",
   "pygments_lexer": "ipython3",
   "version": "3.8.5"
  }
 },
 "nbformat": 4,
 "nbformat_minor": 1
}
